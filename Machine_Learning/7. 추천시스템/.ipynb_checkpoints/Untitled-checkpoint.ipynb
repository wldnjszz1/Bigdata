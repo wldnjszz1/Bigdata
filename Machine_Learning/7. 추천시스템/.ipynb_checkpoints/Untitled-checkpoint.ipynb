{
 "cells": [
  {
   "cell_type": "markdown",
   "metadata": {},
   "source": [
    "# 추천시스템\n",
    "\n",
    "일방적 추천 : 사용자 성향에 관계 없이 일정 상품들을 추천\n",
    "\n",
    "성향분석 : 사용자가 유사한 성향을 가진 사람들의 상품 평점을 토대로 사용자가 상품에 내릴 평점을 에측하여 상품을 추천한다\n",
    "\n",
    "개인화 ; 사용자의 개인 성향을 학습하여 그에 맞는 상품을 추천한다."
   ]
  },
  {
   "cell_type": "code",
   "execution_count": null,
   "metadata": {},
   "outputs": [],
   "source": [
    "import surprise as sp\n",
    "import pandas as pd"
   ]
  },
  {
   "cell_type": "markdown",
   "metadata": {},
   "source": [
    "### 데이터 준비"
   ]
  },
  {
   "cell_type": "code",
   "execution_count": null,
   "metadata": {},
   "outputs": [],
   "source": [
    "# # 제공되는 데이터 사용\n",
    "# data = sp.Dataset.load_builtin('ml-100k')\n",
    "# data.raw_ratings\n",
    "\n",
    "# 사용자 리스트\n",
    "user_list = ['마동석', '이정재', '윤계상', '설경구', '도경수', '김새론']\n",
    "\n",
    "# 상품 리스트\n",
    "product_list = ['스마트폰', '노트북', '가습기', '건조기', '세탁기', 'PS4 Pro']\n",
    "\n",
    "# 평점 정보\n",
    "rating_list = [[0, 0, 2.5], [0, 1, 3.0], [0, 2, 4.0], [0, 3, 5.0], [0, 4, 3.0], [0, 5, 5.0],\n",
    "               [1, 0, 3.0], [1, 1, 2.5], [1, 2, 5.0], [1, 3, 4.7], [1, 4, 4.5], [1, 5, 5.0],\n",
    "               [2, 1, 2.0], [2, 2, 5.0], [2, 4, 2.5],\n",
    "               [3, 0, 2.5], [3, 1, 3.0], [3, 2, 4.0], [3, 3, 5.0],\n",
    "               [4, 0, 3.0], [4, 1, 2.0],\n",
    "               [5, 5, 3.0]\n",
    "    \n",
    "]"
   ]
  },
  {
   "cell_type": "code",
   "execution_count": null,
   "metadata": {},
   "outputs": [],
   "source": [
    "# surprise 모델에서 사용하는 형태로 데이터를 만들어준다\n",
    "rating_dic = {\n",
    "    'user_id' : [],\n",
    "    'item_id' : [],\n",
    "    'rating' : []\n",
    "}\n",
    "\n",
    "for a1, a2, a3 in rating_list:\n",
    "    rating_dic['user_id'].append(a1)\n",
    "    rating_dic['item_id'].append(a1)\n",
    "    rating_dic['rating'].append(a1)"
   ]
  },
  {
   "cell_type": "markdown",
   "metadata": {},
   "source": [
    "### 학습 "
   ]
  },
  {
   "cell_type": "code",
   "execution_count": null,
   "metadata": {},
   "outputs": [],
   "source": [
    "# 데이터 셋을 만든다.\n",
    "df = pd.DataFrame(rating_dic)\n",
    "\n",
    "#데이터를 읽어와 서프라이즈에서 사용하는 데이터 형태로 만들어주는 객체\n",
    "reader = sp.Reader(rating_scale=(0.0, 5.0)) # rating_scale=(최소, 최대)\n",
    "\n",
    "# 딕셔너리에 담겨있는 데이터의 이름\n",
    "# 데이터셋을 만들 때 첫번째 이름을 사용자 구분값, 두번째 이름을 상품 구분값, 세번째 이름을 평점으로 인식하여 데이터를 읽어들이고 데이터셋으로 만든다\n",
    "col_list = ['user_id', 'item_id', 'rating']\n",
    "\n",
    "data = sp.Dataset.load_from_df(df[col_list], reader)\n",
    "\n",
    "# 학습할 모델\n",
    "model = sp.KNNBasic(sim_options={'name' : 'pearson'})\n",
    "\n",
    "# 학습한다\n",
    "trainset = data.build_full_trainset()\n",
    "model.fit(trainset)"
   ]
  },
  {
   "cell_type": "code",
   "execution_count": null,
   "metadata": {},
   "outputs": [],
   "source": [
    "# # 196번 사용자에 대해 5개의 상품을 추천한다\n",
    "# result = model.get_neighbors(196, k=5)\n",
    "# result\n",
    "\n",
    "# 도경수에 대해 상품 5개 추천\n",
    "idx = user_list.index('도경수')\n",
    "result = model.get_neighbors(idx, k=5) # k : 추천해줄 상품 갯수\n",
    "\n",
    "for a1 in result:\n",
    "    print(product_list[a1])"
   ]
  }
 ],
 "metadata": {
  "kernelspec": {
   "display_name": "Python 3",
   "language": "python",
   "name": "python3"
  },
  "language_info": {
   "codemirror_mode": {
    "name": "ipython",
    "version": 3
   },
   "file_extension": ".py",
   "mimetype": "text/x-python",
   "name": "python",
   "nbconvert_exporter": "python",
   "pygments_lexer": "ipython3",
   "version": "3.7.1"
  }
 },
 "nbformat": 4,
 "nbformat_minor": 2
}
