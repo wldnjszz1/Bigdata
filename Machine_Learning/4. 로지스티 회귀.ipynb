{
 "cells": [
  {
   "cell_type": "code",
   "execution_count": 18,
   "metadata": {},
   "outputs": [],
   "source": [
    "# 학습데이터\n",
    "from sklearn import datasets\n",
    "# 데이터를 학습용과 테스트 용으로 나눌 수 있는 함수\n",
    "from sklearn.model_selection import train_test_split\n",
    "# 데이터 표준화\n",
    "from sklearn.preprocessing import StandardScaler\n",
    "# 로지스터 회귀 객체\n",
    "from sklearn.linear_model import LogisticRegression\n",
    "# 정확도 계산을 위한 함수\n",
    "from sklearn.metrics import accuracy_score\n",
    "# 파일 저장을 위해\n",
    "import pickle\n",
    "import numpy as np\n",
    "# 시각화\n",
    "import matplotlib.pyplot as plt"
   ]
  },
  {
   "cell_type": "markdown",
   "metadata": {},
   "source": [
    "### 데이터 준비"
   ]
  },
  {
   "cell_type": "code",
   "execution_count": 19,
   "metadata": {},
   "outputs": [],
   "source": [
    "iris = datasets.load_iris()\n",
    "# 꽃 정보 추출\n",
    "# 꽃잎 데이터 (길이, 너비)\n",
    "X = iris.data[:, [2, 3]]\n",
    "# 결과 데이터\n",
    "y = iris.target\n",
    "# 이름\n",
    "names = iris.target_names"
   ]
  },
  {
   "cell_type": "markdown",
   "metadata": {},
   "source": [
    "### 데이터 분석"
   ]
  },
  {
   "cell_type": "code",
   "execution_count": 20,
   "metadata": {},
   "outputs": [
    {
     "data": {
      "image/png": "[encoded data removed]",
      "text/plain": [
       "<Figure size 432x288 with 1 Axes>"
      ]
     },
     "metadata": {
      "needs_background": "light"
     },
     "output_type": "display_data"
    }
   ],
   "source": [
    "plt.scatter(X[:50, 0], X[:50, 1]) # 처음부터 50번째 (첫번째 꽃 데이터) 의 0번째 요소와 1 번째 요소 시각화\n",
    "plt.scatter(X[50:100, 0], X[50:100, 1]) \n",
    "plt.scatter(X[100:, 0], X[100:, 1])\n",
    "plt.show()"
   ]
  },
  {
   "cell_type": "markdown",
   "metadata": {},
   "source": [
    "### 데이터 전처리 및 표준화"
   ]
  },
  {
   "cell_type": "code",
   "execution_count": 24,
   "metadata": {},
   "outputs": [],
   "source": [
    "# 전처리가 필요없는 데이터이기 때문에 전처리 과정은 필요 없음\n",
    "# 학습 데이터와 테스트 데이터로 나눈다\n",
    "X_train, X_test, y_train, y_test = train_test_split(X, y, test_size=0.3, random_state=0) # test_size=0.3: , random_state=0 : 항상 일정한 패턴으로 섞음\n",
    "\n",
    "# 표준화 작업 : \n",
    "sc = StandardScaler()\n",
    "# 데이터를 표준화하기 전에, 표준 분표를 먼저 구한다 \n",
    "sc.fit(X_train) # fit: pc학습\n",
    "\n",
    "# 데이터를 표준화\n",
    "X_train_std = sc.transform(X_train)\n",
    "X_test_std = sc.transform(X_test)"
   ]
  },
  {
   "cell_type": "markdown",
   "metadata": {},
   "source": [
    "### 학습"
   ]
  },
  {
   "cell_type": "code",
   "execution_count": 25,
   "metadata": {},
   "outputs": [
    {
     "name": "stderr",
     "output_type": "stream",
     "text": [
      "C:\\ProgramData\\Anaconda3\\lib\\site-packages\\sklearn\\linear_model\\logistic.py:433: FutureWarning: Default solver will be changed to 'lbfgs' in 0.22. Specify a solver to silence this warning.\n",
      "  FutureWarning)\n",
      "C:\\ProgramData\\Anaconda3\\lib\\site-packages\\sklearn\\linear_model\\logistic.py:460: FutureWarning: Default multi_class will be changed to 'auto' in 0.22. Specify the multi_class option to silence this warning.\n",
      "  \"this warning.\", FutureWarning)\n"
     ]
    },
    {
     "data": {
      "text/plain": [
       "LogisticRegression(C=1000.0, class_weight=None, dual=False,\n",
       "          fit_intercept=True, intercept_scaling=1, max_iter=100,\n",
       "          multi_class='warn', n_jobs=None, penalty='l2', random_state=0,\n",
       "          solver='warn', tol=0.0001, verbose=0, warm_start=False)"
      ]
     },
     "execution_count": 25,
     "metadata": {},
     "output_type": "execute_result"
    }
   ],
   "source": [
    "# 학습할 모델 객체를 생성한다\n",
    "# 로지스틱 회귀는 과적합 현상이 발생할 확률이 매우 높다\n",
    "# 과적합 : 학습용 데이터에 너무 최적화되어 검증 데이터나 앞으로 발생되는 데이터에 대해 예측 정확도가 떨어지는 현상\n",
    "# 예측 모델을 L2 정규화(C=1000.0)를 이용해서 데이터 정규화를 하도록 한다. (얼마를 넣을지는 문서에 쓰여있음)\n",
    "# 여기서는 C라는 변수에 1000.0을 넣어준다 => 과적합 예방\n",
    "model = LogisticRegression(C=1000.0, random_state=0) \n",
    "# 학습한다\n",
    "model.fit(X_train_std, y_train)"
   ]
  },
  {
   "cell_type": "markdown",
   "metadata": {},
   "source": [
    "### 모델 검증 및 저장"
   ]
  },
  {
   "cell_type": "code",
   "execution_count": 27,
   "metadata": {},
   "outputs": [
    {
     "name": "stdout",
     "output_type": "stream",
     "text": [
      "정확도 : 0.9777777777777777\n",
      "저장완료\n"
     ]
    }
   ],
   "source": [
    "# 검증용 데이터를 입력해서 예측 결과를 계산한다\n",
    "y_pred = model.predict(X_test_std) # predict: 예측결과를 계산해주는 함수\n",
    "\n",
    "# 실제 결과 데이터와 계산된 예측 결과 데이터를 비교해 정확도를 계산한다\n",
    "score = accuracy_score(y_test, y_pred)\n",
    "print(f'정확도 : {score}') # 주어진 데이터를 랜덤으로 섞기 때문에 실행할 때마다 결과치는 달라진다 (random_state = 0 사용 가능)\n",
    "\n",
    "# 모델을 저장한다\n",
    "with open('logistic.dat', 'wb') as fp:\n",
    "    pickle.dump(sc, fp)\n",
    "    pickle.dump(model, fp)\n",
    "\n",
    "print('저장완료')"
   ]
  },
  {
   "cell_type": "markdown",
   "metadata": {},
   "source": [
    "### 활용"
   ]
  },
  {
   "cell_type": "code",
   "execution_count": 30,
   "metadata": {},
   "outputs": [
    {
     "name": "stdout",
     "output_type": "stream",
     "text": [
      "setosa\n",
      "setosa\n",
      "setosa\n",
      "versicolor\n",
      "versicolor\n",
      "versicolor\n",
      "virginica\n",
      "virginica\n",
      "virginica\n"
     ]
    }
   ],
   "source": [
    "# 파일로부터 학습 모델을 복원한다\n",
    "with open('logistic.dat', 'rb') as fp:\n",
    "    sc2 = pickle.load(fp)\n",
    "    model2 = pickle.load(fp)\n",
    "\n",
    "X2 = [\n",
    "    [1.4, 0.2], [1.3, 0.2], [1.5, 0.2],\n",
    "    [4.5, 1.5], [4.1, 1.0], [4.5, 1.5],\n",
    "    [5.2, 2.0], [5.4, 2.3], [5.1, 1.8]\n",
    "]\n",
    "\n",
    "X2_std = sc.transform(X2)\n",
    "\n",
    "# 예측 결과를 계산한다\n",
    "y2_pred = model2.predict(X2_std)\n",
    "\n",
    "for value in y2_pred:\n",
    "    print(names[value])"
   ]
  },
  {
   "cell_type": "code",
   "execution_count": null,
   "metadata": {},
   "outputs": [],
   "source": []
  }
 ],
 "metadata": {
  "kernelspec": {
   "display_name": "Python 3",
   "language": "python",
   "name": "python3"
  },
  "language_info": {
   "codemirror_mode": {
    "name": "ipython",
    "version": 3
   },
   "file_extension": ".py",
   "mimetype": "text/x-python",
   "name": "python",
   "nbconvert_exporter": "python",
   "pygments_lexer": "ipython3",
   "version": "3.7.1"
  }
 },
 "nbformat": 4,
 "nbformat_minor": 2
}
