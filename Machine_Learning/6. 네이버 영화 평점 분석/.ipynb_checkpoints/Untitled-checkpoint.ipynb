{
 "cells": [
  {
   "cell_type": "markdown",
   "metadata": {},
   "source": [
    "# 감성분석\n",
    "\n",
    "사람이 작성한 글이 부정적인지 긍정적인지를 판단하는 예측 모델\n",
    "\n",
    "작성한 글의 형태소를 분석해서 사전을 만들고 출현한 단어나 문장의 횟수를 계산하여 긍정과 부정을 판단한다\n"
   ]
  },
  {
   "cell_type": "code",
   "execution_count": 2,
   "metadata": {},
   "outputs": [],
   "source": [
    "from sklearn.model_selection import train_test_split\n",
    "import pandas as pd\n",
    "import numpy as np"
   ]
  },
  {
   "cell_type": "markdown",
   "metadata": {},
   "source": [
    "### 데이터 로딩"
   ]
  },
  {
   "cell_type": "code",
   "execution_count": 5,
   "metadata": {},
   "outputs": [
    {
     "data": {
      "text/html": [
       "<div>\n",
       "<style scoped>\n",
       "    .dataframe tbody tr th:only-of-type {\n",
       "        vertical-align: middle;\n",
       "    }\n",
       "\n",
       "    .dataframe tbody tr th {\n",
       "        vertical-align: top;\n",
       "    }\n",
       "\n",
       "    .dataframe thead th {\n",
       "        text-align: right;\n",
       "    }\n",
       "</style>\n",
       "<table border=\"1\" class=\"dataframe\">\n",
       "  <thead>\n",
       "    <tr style=\"text-align: right;\">\n",
       "      <th></th>\n",
       "      <th>text</th>\n",
       "      <th>star</th>\n",
       "    </tr>\n",
       "  </thead>\n",
       "  <tbody>\n",
       "    <tr>\n",
       "      <th>0</th>\n",
       "      <td>일단 진선규님께 박수갈채도 부족함 진짜 연기를 다양하게 잘하셔서 놀랐어요 오랜만에 ...</td>\n",
       "      <td>10</td>\n",
       "    </tr>\n",
       "    <tr>\n",
       "      <th>1</th>\n",
       "      <td>관람객류승룡 드디어 심폐소생술 성공!</td>\n",
       "      <td>8</td>\n",
       "    </tr>\n",
       "    <tr>\n",
       "      <th>2</th>\n",
       "      <td>관람객진짜 뻥안치고 ㅈㄴ 웃겼다</td>\n",
       "      <td>10</td>\n",
       "    </tr>\n",
       "    <tr>\n",
       "      <th>3</th>\n",
       "      <td>관람객계속 웃으면서 봤어요!\"지금까지 이런맛은 없었다이것은 갈비인가 통닭인가수원왕갈...</td>\n",
       "      <td>10</td>\n",
       "    </tr>\n",
       "    <tr>\n",
       "      <th>4</th>\n",
       "      <td>지금까지 이런 영화는 없었다  이것은 영화인가 통닭광고인가</td>\n",
       "      <td>10</td>\n",
       "    </tr>\n",
       "  </tbody>\n",
       "</table>\n",
       "</div>"
      ],
      "text/plain": [
       "                                                text  star\n",
       "0  일단 진선규님께 박수갈채도 부족함 진짜 연기를 다양하게 잘하셔서 놀랐어요 오랜만에 ...    10\n",
       "1                             관람객류승룡 드디어 심폐소생술 성공!       8\n",
       "2                                관람객진짜 뻥안치고 ㅈㄴ 웃겼다      10\n",
       "3  관람객계속 웃으면서 봤어요!\"지금까지 이런맛은 없었다이것은 갈비인가 통닭인가수원왕갈...    10\n",
       "4                 지금까지 이런 영화는 없었다  이것은 영화인가 통닭광고인가      10"
      ]
     },
     "execution_count": 5,
     "metadata": {},
     "output_type": "execute_result"
    }
   ],
   "source": [
    "df = pd.read_csv('naver_star_data.csv')\n",
    "df.head() # head(): 상위 다섯개만 보여줌"
   ]
  },
  {
   "cell_type": "markdown",
   "metadata": {},
   "source": [
    "### 데이터 전처리"
   ]
  },
  {
   "cell_type": "code",
   "execution_count": 7,
   "metadata": {},
   "outputs": [
    {
     "data": {
      "text/plain": [
       "0    일단 진선규님께 박수갈채도 부족함 진짜 연기를 다양하게 잘하셔서 놀랐어요 오랜만에 ...\n",
       "1                                    류승룡 드디어 심폐소생술 성공!\n",
       "2                                       진짜 뻥안치고 ㅈㄴ 웃겼다\n",
       "3    계속 웃으면서 봤어요!\"지금까지 이런맛은 없었다이것은 갈비인가 통닭인가수원왕갈비통닭...\n",
       "4                     지금까지 이런 영화는 없었다  이것은 영화인가 통닭광고인가\n",
       "Name: text, dtype: object"
      ]
     },
     "execution_count": 7,
     "metadata": {},
     "output_type": "execute_result"
    }
   ],
   "source": [
    "# 후기글 전처리\n",
    "def text_preprocessing(text):\n",
    "    # 관람객이라고 시작하면 관람객을 날려준다\n",
    "    if text.startswith('관람객'):\n",
    "        new_str = text[3:]\n",
    "        return new_str.strip()\n",
    "    \n",
    "    return text.strip()\n",
    "\n",
    "df['text'] = df['text'].apply(text_preprocessing) # if문 왜 안쓰는지 ?\n",
    "df['text'].head() # 확인"
   ]
  },
  {
   "cell_type": "code",
   "execution_count": 8,
   "metadata": {},
   "outputs": [
    {
     "data": {
      "text/plain": [
       "0    1\n",
       "1    1\n",
       "2    1\n",
       "3    1\n",
       "4    1\n",
       "Name: star, dtype: object"
      ]
     },
     "execution_count": 8,
     "metadata": {},
     "output_type": "execute_result"
    }
   ],
   "source": [
    "# 평점 데이터 전처리\n",
    "def star_preprocessing(text):\n",
    "    value = int(text)\n",
    "    if value <= 5 :\n",
    "        return '0'\n",
    "    else: return '1'\n",
    "\n",
    "df['star'] = df['star'].apply(star_preprocessing)\n",
    "df['star'].head()"
   ]
  },
  {
   "cell_type": "code",
   "execution_count": 9,
   "metadata": {},
   "outputs": [],
   "source": [
    "# 입력 데이터와 결과 데이터로 나눈다\n",
    "text_list = df['text'].tolist()\n",
    "star_list = df['star'].tolist()\n",
    "\n",
    "# 학습 데이터와 검증 데이터로 나눈다\n",
    "text_train, text_test, star_train, star_test = train_test_split(text_list, star_list, test_size = 0.3)\n",
    "\n",
    "# 저장한다\n",
    "dic_train = {\n",
    "    'text' : text_train,\n",
    "    'star' : star_train\n",
    "}\n",
    "\n",
    "dic_test = {\n",
    "    'text' : text_test,\n",
    "    'star' : star_test\n",
    "}\n",
    "\n",
    "df_train = pd.DataFrame(dic_train)\n",
    "df_test = pd.DataFrame(dic_test)\n",
    "\n",
    "df_train.to_csv('movie_train_data.csv', index = False, encoding = 'utf-8-sig')\n",
    "df_test.to_csv('movie_test_data.csv', index = False, encoding = 'utf-8-sig')"
   ]
  },
  {
   "cell_type": "code",
   "execution_count": null,
   "metadata": {},
   "outputs": [],
   "source": []
  }
 ],
 "metadata": {
  "kernelspec": {
   "display_name": "Python 3",
   "language": "python",
   "name": "python3"
  },
  "language_info": {
   "codemirror_mode": {
    "name": "ipython",
    "version": 3
   },
   "file_extension": ".py",
   "mimetype": "text/x-python",
   "name": "python",
   "nbconvert_exporter": "python",
   "pygments_lexer": "ipython3",
   "version": "3.7.1"
  }
 },
 "nbformat": 4,
 "nbformat_minor": 2
}
