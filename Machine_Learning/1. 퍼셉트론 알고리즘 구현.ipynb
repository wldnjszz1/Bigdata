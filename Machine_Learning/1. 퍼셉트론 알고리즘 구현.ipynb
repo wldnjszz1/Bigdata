{
 "cells": [
  {
   "cell_type": "markdown",
   "metadata": {},
   "source": [
    "# 퍼셉트론"
   ]
  },
  {
   "cell_type": "code",
   "execution_count": 1,
   "metadata": {},
   "outputs": [],
   "source": [
    "import numpy as np"
   ]
  },
  {
   "cell_type": "code",
   "execution_count": 6,
   "metadata": {},
   "outputs": [],
   "source": [
    "class Perceptron:\n",
    "    # 생성자 함수\n",
    "    # thresholds : 임계값(계산된 결과 값이 임계값보다 크면 1, 작거나 같으면 -1로 변경) \n",
    "    # eta : 학습률 (가중치 계산 시 곱하는 값)\n",
    "    # n_iter : 최대 학습 횟수\n",
    "    def __init__(self, thresholds=0.0, eta=0.1, n_iter=10) : \n",
    "        self.thresholds = thresholds\n",
    "        self.eta = eta\n",
    "        self.n_iter = n_iter\n",
    "        \n",
    "    # 학습하는 함수\n",
    "    # X : 입력 데이터, y : 결과 데이터\n",
    "    def fit(self, X, y):\n",
    "        self.w_ = np.zeros(1 + X.shape[1])\n",
    "        \n",
    "        # 지정된 학습 횟수만큼 반복한다.\n",
    "        for _ in range(self.n_iter):\n",
    "            # 입력값과 결과값을 하나의 행렬로 묶어준다\n",
    "            temp1 = zip(X, y)\n",
    "            # 반복한다\n",
    "            for xi, target in temp1:\n",
    "                # 입력값을 가지고 결과값을 예측한다\n",
    "                a1 = self.predict(xi)\n",
    "                # 입력값과 결과값이 다르면 가중치 값을 다시 계산한다\n",
    "                if target != a1 :\n",
    "                    update = self.eta * (target - a1)\n",
    "                    self.w_[1:] += update * xi\n",
    "                    self.w_[0] += update\n",
    "        \n",
    "    # 가중치 X 입력값의 총 합을 구하는 함수\n",
    "    # X : 입력 데이터\n",
    "    def net_input(self, X):\n",
    "        # 각 자리의 값과 가중치를 곱한 총 합을 구한다\n",
    "        a1 = np.dot(X, self.w_[1:]) + self.w_[0]\n",
    "        return a1\n",
    "    \n",
    "    # 계산된 예측 결과값을 임계값과 비교해 1 or -1을 반환\n",
    "    def predict(self, X):\n",
    "        a2 = np.where(self.net_input(X) > self.thresholds, 1, -1) # 참이면 1, 거짓이면 -1\n",
    "        return a2\n",
    "        \n",
    "        "
   ]
  },
  {
   "cell_type": "code",
   "execution_count": 7,
   "metadata": {},
   "outputs": [
    {
     "name": "stdout",
     "output_type": "stream",
     "text": [
      "학습 완료\n"
     ]
    }
   ],
   "source": [
    "# 학습 데이터를 준비한다\n",
    "X = np.array([[0, 0], [0, 1], [1, 0], [1, 1]])\n",
    "# 0 => -1, 1 => 1\n",
    "y = np.array([-1, -1, -1, 1])\n",
    "# 퍼셉트론 객체를 생성\n",
    "model = Perceptron()\n",
    "# 학습\n",
    "model.fit(X, y)\n",
    "print('학습 완료')"
   ]
  },
  {
   "cell_type": "code",
   "execution_count": 11,
   "metadata": {},
   "outputs": [
    {
     "name": "stdout",
     "output_type": "stream",
     "text": [
      "첫 번째 2진수를 입력 : 0\n",
      "두 번째 2진수를 입력 : 1\n",
      "결과 : 0\n"
     ]
    }
   ],
   "source": [
    "a1 = input(\"첫 번째 2진수를 입력 : \")\n",
    "a2 = input(\"두 번째 2진수를 입력 : \")\n",
    "\n",
    "X = np.array([int(a1), int(a2)])\n",
    "# 예측 모델을 통해 예측 결과를 가져온다\n",
    "result = model.predict(X)\n",
    "if result == 1:\n",
    "    print(\"결과 : 1\")\n",
    "else: \n",
    "    print(\"결과 : 0\")"
   ]
  },
  {
   "cell_type": "code",
   "execution_count": null,
   "metadata": {},
   "outputs": [],
   "source": []
  }
 ],
 "metadata": {
  "kernelspec": {
   "display_name": "Python 3",
   "language": "python",
   "name": "python3"
  },
  "language_info": {
   "codemirror_mode": {
    "name": "ipython",
    "version": 3
   },
   "file_extension": ".py",
   "mimetype": "text/x-python",
   "name": "python",
   "nbconvert_exporter": "python",
   "pygments_lexer": "ipython3",
   "version": "3.7.1"
  }
 },
 "nbformat": 4,
 "nbformat_minor": 2
}
