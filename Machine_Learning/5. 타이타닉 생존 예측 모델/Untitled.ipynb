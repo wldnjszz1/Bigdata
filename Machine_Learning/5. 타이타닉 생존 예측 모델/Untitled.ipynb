{
 "cells": [
  {
   "cell_type": "markdown",
   "metadata": {},
   "source": [
    "# 타이타닉 생존자 예측 모델\n",
    "\n",
    "1. 데이터 분석과 전처리 (특성안에 들어있는 값의 속성이 너무 달라서 전처리 필요, 데이터가 의미있는지 확인 방법 : 시각화)\n",
    "\n",
    "2. 모든 예측 모델을 사용해보고 성능이 좋은 모델을 선택하는 방법\n"
   ]
  },
  {
   "cell_type": "code",
   "execution_count": 1,
   "metadata": {},
   "outputs": [],
   "source": [
    "# csv에서 데이터를 읽어와 행렬 객체로 만들 수 있는 모듈\n",
    "# 다양한 데이터 전처리\n",
    "import pandas as pd\n",
    "# 시각화\n",
    "import matplotlib.pyplot as plt\n",
    "# 사용할 모델들 (classifier : 분류기) (어떤 모델을 사용할지 모르기 때문에 많은 모델들을 import함)\n",
    "from sklearn.linear_model import LogisticRegression # 회귀귀법을 이용한 분류 알고리즘\n",
    "from sklearn.neighbors import KNeighborsClassifier\n",
    "from sklearn.tree import DecisionTreeClassifier\n",
    "from sklearn.ensemble import RandomForestClassifier\n",
    "from sklearn.naive_bayes import GaussianNB\n",
    "from sklearn.svm import SVC\n",
    "from xgboost import XGBClassifier\n",
    "# kFold 교차 검증(테스트를 통해 어떤 모델이 가장 좋은지 확인)을 위한 모듈들\n",
    "from sklearn.model_selection import KFold\n",
    "from sklearn.model_selection import cross_val_score\n",
    "\n",
    "import numpy as np\n",
    "import collections"
   ]
  },
  {
   "cell_type": "markdown",
   "metadata": {},
   "source": [
    "### 데이터 준비"
   ]
  },
  {
   "cell_type": "code",
   "execution_count": 129,
   "metadata": {},
   "outputs": [],
   "source": [
    "# 데이터를 읽어온다\n",
    "train = pd.read_csv('train.csv') # survived 특성이 있다\n",
    "test = pd.read_csv('test.csv') # survived 특성이 없기때문에 생존자를 예측해야함"
   ]
  },
  {
   "cell_type": "code",
   "execution_count": 130,
   "metadata": {},
   "outputs": [],
   "source": [
    "# 시각화함수\n",
    "def bar_chart(feature):\n",
    "    # ex) train[train['Survived'] == 1]['PClass'].value_counts()\n",
    "    # => survived 값이 1인 로우를 모두 가져온 다음 'PClass' 특성에 저장된 값을 기준으로 그룹을 묶어 주고, 각 그룹별 로우의 개수를 반환한다\n",
    "    # 특성 이름에 따라 생존한 사람의 수를 계산한다\n",
    "    a1 = train[train['Survived'] == 1][feature].value_counts()\n",
    "    # 특성 이름에 따라 사망한 사람의 수를 계산한다\n",
    "    a2 = train[train['Survived'] == 0][feature].value_counts()\n",
    "    \n",
    "    df = pd.DataFrame([a1, a2])\n",
    "    df.index = ['Survived', 'Dead']\n",
    "    df.plot(kind = 'bar', stacked = True, figsize = (10, 5))# kind = 'bar' : 막대 그래프 stacked = True : 스택별로 figsize = (10, 5) : 그래프 크기\n",
    "    plt.show()"
   ]
  },
  {
   "cell_type": "markdown",
   "metadata": {},
   "source": [
    "### 데이터 분석 및 전처리"
   ]
  },
  {
   "cell_type": "code",
   "execution_count": 131,
   "metadata": {},
   "outputs": [
    {
     "data": {
      "image/png": "[encoded data removed]",
      "text/plain": [
       "<Figure size 720x360 with 1 Axes>"
      ]
     },
     "metadata": {
      "needs_background": "light"
     },
     "output_type": "display_data"
    }
   ],
   "source": [
    "# Pclass : 티켓 등급\n",
    "# 3등석일 수록 사망할 확률이 높으므로 학습 데이터로 사용\n",
    "bar_chart('Pclass')"
   ]
  },
  {
   "cell_type": "code",
   "execution_count": 132,
   "metadata": {},
   "outputs": [],
   "source": [
    "# Name : 탑승객 이름\n",
    "# bar_chart('Name') => 사람의 이름은 생존과 사망을 결정하는 요소가 될 수 없으므로 학습하는 데이터에서 제거"
   ]
  },
  {
   "cell_type": "code",
   "execution_count": 133,
   "metadata": {},
   "outputs": [
    {
     "data": {
      "image/png": "[encoded data removed]",
      "text/plain": [
       "<Figure size 720x360 with 1 Axes>"
      ]
     },
     "metadata": {
      "needs_background": "light"
     },
     "output_type": "display_data"
    }
   ],
   "source": [
    "# Sex : 성별\n",
    "# 성별은 사망과 생존 여부를 판가름 할 수 있는 데이터\n",
    "# 문자열 데이터이기 때문에 숫자로 변환하는 작업을 해준다 (머신러닝은 문자열 데이터를 학습하지 못한다) \n",
    "# 성별 데이터 전처리\n",
    "sex_map = {'male' : 0, 'female' : 1}\n",
    "train['Sex'] = train['Sex'].map(sex_map)\n",
    "test['Sex'] = test['Sex'].map(sex_map)\n",
    "bar_chart('Sex')"
   ]
  },
  {
   "cell_type": "code",
   "execution_count": 134,
   "metadata": {},
   "outputs": [
    {
     "data": {
      "image/png": "[encoded data removed]",
      "text/plain": [
       "<Figure size 720x360 with 1 Axes>"
      ]
     },
     "metadata": {
      "needs_background": "light"
     },
     "output_type": "display_data"
    }
   ],
   "source": [
    "# Age : 나이\n",
    "# 비어있는 곳을 채우는 작업\n",
    "# 이름에서 Mr, Miss 와 같은 title 값을 추출한다\n",
    "train['Title'] = train['Name'].str.extract('([A-Za-z]+)\\.', expand=False) # ([A-Za-z]+)\\. : 정규식(알파벳 대문자나 소문자로 시작하고 \\는 마지막글자가 . 으로 끝나는)\n",
    "test['Title'] = test['Name'].str.extract('([A-Za-z]+)\\.', expand=False)\n",
    "\n",
    "# 추출한 Title 값을 숫자로 변환\n",
    "title_map = {\n",
    "    'Mr' : 0, 'Miss': 1, 'Mrs' : 2,\n",
    "    'Master' : 3, 'Dr' : 3, 'Rev': 3,\n",
    "    'Mlle' : 3, 'Col': 3, 'Major' : 3, \n",
    "    'Lady': 3, 'Sir': 3 ,'Countess' : 3,\n",
    "    'Mme' : 3, 'Capt' : 3, 'Jonkheer' : 3,\n",
    "    'Ms' : 3, 'Don' : 3\n",
    "}\n",
    "\n",
    "train['Title'] = train['Title'].map(title_map)\n",
    "test['Title'] = test['Title'].map(title_map)\n",
    "\n",
    "# test['Title'].value_counts()\n",
    "\n",
    "# title을 기준으로 그룹을 묶은 후, 나이의 평균을 구한다\n",
    "avg1 = train.groupby('Title')['Age'].transform('median')\n",
    "avg2 = test.groupby('Title')['Age'].transform('median')\n",
    "\n",
    "# title을 기준으로 평균 나이를 비어있는 곳에 채워 준다.\n",
    "train['Age'].fillna(avg1, inplace=True) # fillna : 비어있는 곳을 채우는 함수\n",
    "test['Age'].fillna(avg2, inplace=True)\n",
    "\n",
    "# 나이별로 그룹화\n",
    "# 0 : 16세 이하, 1 : 17 ~ 26, 2 : 27 ~ 36, 3 : 37 ~ 62, 4 : 63세 이상\n",
    "train.loc[train['Age'] <= 16, 'Age'] = 0,\n",
    "train.loc[(train['Age'] > 16) & (train['Age'] <= 26), 'Age'] = 1,\n",
    "train.loc[(train['Age'] > 26) & (train['Age'] <= 36), 'Age'] = 2,\n",
    "train.loc[(train['Age'] > 36) & (train['Age'] <= 62), 'Age'] = 3,\n",
    "train.loc[train['Age'] > 62, 'Age'] = 4\n",
    "\n",
    "test.loc[test['Age'] <= 16, 'Age'] = 0,\n",
    "test.loc[(test['Age'] > 16) & (test['Age'] <= 26), 'Age'] = 1,\n",
    "test.loc[(test['Age'] > 26) & (test['Age'] <= 36), 'Age'] = 2,\n",
    "test.loc[(test['Age'] > 36) & (test['Age'] <= 62), 'Age'] = 3,\n",
    "test.loc[test['Age'] > 62, 'Age'] = 4\n",
    "\n",
    "bar_chart('Age')"
   ]
  },
  {
   "cell_type": "code",
   "execution_count": 135,
   "metadata": {},
   "outputs": [
    {
     "data": {
      "image/png": "[encoded data removed]",
      "text/plain": [
       "<Figure size 720x360 with 1 Axes>"
      ]
     },
     "metadata": {
      "needs_background": "light"
     },
     "output_type": "display_data"
    }
   ],
   "source": [
    "# 동승한 가족의 수 : SibSp + Parch\n",
    "train['FamilySize'] = train['SibSp'] + train['Parch'] + 1\n",
    "test['FamilySize'] = test['SibSp'] + test['Parch'] + 1\n",
    "\n",
    "# 다른 특성에 비해 최대 최소값의 차이(편차)가 너무 크므로 다른 특성 수준으로 맞춰준다\n",
    "family_map = {\n",
    "    1:0, 2:0.4, 3:0.8, 4:1.2, 5:1.6, 6:2, \n",
    "    7:2.4, 8:2.8, 9:3.2, 10:3.6, 11:4\n",
    "}\n",
    "\n",
    "train['FamilySize'] = train['FamilySize'].map(family_map)\n",
    "test['FamilySize'] = test['FamilySize'].map(family_map)\n",
    "\n",
    "bar_chart('FamilySize')"
   ]
  },
  {
   "cell_type": "code",
   "execution_count": 136,
   "metadata": {},
   "outputs": [
    {
     "data": {
      "image/png": "[encoded data removed]",
      "text/plain": [
       "<Figure size 720x360 with 1 Axes>"
      ]
     },
     "metadata": {
      "needs_background": "light"
     },
     "output_type": "display_data"
    }
   ],
   "source": [
    "# Cabin : 객실 데이터\n",
    "# 객실의 첫글자(구역)을 떼서 다시 넣어준다.\n",
    "train['Cabin'] = train['Cabin'].str[:1]\n",
    "test['Cabin'] = test['Cabin'].str[:1]\n",
    "\n",
    "\n",
    "# 각 첫글자를 기준으로 숫자로 변경한다\n",
    "cabin_map = {\n",
    "    'A':0, 'B':0.4, 'C':0.8, 'D':1.2, 'E':1.6, 'F':2.0, 'G':2.4, 'T':2.8\n",
    "}\n",
    "train['Cabin'] = train['Cabin'].map(cabin_map)\n",
    "test['Cabin'] = test['Cabin'].map(cabin_map)\n",
    "\n",
    "# 비어있는 곳은 Pclass 기준으로 평균값으로 채워준다\n",
    "a1 = train.groupby('Pclass')['Cabin'].transform('median')\n",
    "a2 = test.groupby('Pclass')['Cabin'].transform('median')\n",
    "\n",
    "train['Cabin'].fillna(a1, inplace=True)\n",
    "test['Cabin'].fillna(a2, inplace=True)\n",
    "\n",
    "\n",
    "bar_chart('Cabin')"
   ]
  },
  {
   "cell_type": "code",
   "execution_count": 137,
   "metadata": {},
   "outputs": [
    {
     "data": {
      "image/png": "[encoded data removed]",
      "text/plain": [
       "<Figure size 720x360 with 1 Axes>"
      ]
     },
     "metadata": {
      "needs_background": "light"
     },
     "output_type": "display_data"
    }
   ],
   "source": [
    "# Fare : 요금\n",
    "a1 = test.groupby('Pclass')['Fare'].transform('median')\n",
    "test['Fare'].fillna(a1, inplace=True)\n",
    "\n",
    "train.loc[train['Fare'] <= 17, 'Fare'] = 0,\n",
    "train.loc[(train['Fare'] > 17) & (train['Fare'] <= 30), 'Fare'] = 1,\n",
    "train.loc[(train['Fare'] > 30) & (train['Fare'] <= 100), 'Fare'] = 2,\n",
    "train.loc[train['Fare'] > 100 , 'Fare'] = 3\n",
    "\n",
    "test.loc[test['Fare'] <= 17, 'Fare'] = 0,\n",
    "test.loc[(test['Fare'] > 17) & (test['Fare'] <= 30), 'Fare'] = 1,\n",
    "test.loc[(test['Fare'] > 30) & (test['Fare'] <= 100), 'Fare'] = 2,\n",
    "test.loc[test['Fare'] > 100 , 'Fare'] = 3\n",
    "\n",
    "bar_chart('Fare')"
   ]
  },
  {
   "cell_type": "code",
   "execution_count": 138,
   "metadata": {
    "scrolled": true
   },
   "outputs": [],
   "source": [
    "# 불필요한 데이터 제거\n",
    "# 제거 목록 \n",
    "drop_list = ['Name', 'SibSp', 'Parch', 'Ticket', 'Embarked']\n",
    "train = train.drop(drop_list, axis = 1)\n",
    "test = test.drop(drop_list, axis = 1)\n",
    "\n",
    "# 학습 데이터에서만 PassengerId 제거\n",
    "train = train.drop(['PassengerId'], axis = 1)\n",
    "\n",
    "# 결과 데이터 추출\n",
    "target = train['Survived']\n",
    "train = train.drop(['Survived'], axis = 1)"
   ]
  },
  {
   "cell_type": "markdown",
   "metadata": {},
   "source": [
    "### 모델 선택\n",
    "KFold 교차 검증 : K 개의 Fold(랜덤으로 추출한 데이터 묶음)을 생성하여 지정된 모델 객체를 Fold의 수 만큼 만든다. \n",
    "만들어진 모델들의 정확도의 평균을 최종 모델의 정확도로 반환한다."
   ]
  },
  {
   "cell_type": "code",
   "execution_count": 139,
   "metadata": {},
   "outputs": [
    {
     "name": "stderr",
     "output_type": "stream",
     "text": [
      "C:\\ProgramData\\Anaconda3\\lib\\site-packages\\sklearn\\linear_model\\logistic.py:433: FutureWarning: Default solver will be changed to 'lbfgs' in 0.22. Specify a solver to silence this warning.\n",
      "  FutureWarning)\n",
      "C:\\ProgramData\\Anaconda3\\lib\\site-packages\\sklearn\\linear_model\\logistic.py:433: FutureWarning: Default solver will be changed to 'lbfgs' in 0.22. Specify a solver to silence this warning.\n",
      "  FutureWarning)\n",
      "C:\\ProgramData\\Anaconda3\\lib\\site-packages\\sklearn\\linear_model\\logistic.py:433: FutureWarning: Default solver will be changed to 'lbfgs' in 0.22. Specify a solver to silence this warning.\n",
      "  FutureWarning)\n",
      "C:\\ProgramData\\Anaconda3\\lib\\site-packages\\sklearn\\linear_model\\logistic.py:433: FutureWarning: Default solver will be changed to 'lbfgs' in 0.22. Specify a solver to silence this warning.\n",
      "  FutureWarning)\n",
      "C:\\ProgramData\\Anaconda3\\lib\\site-packages\\sklearn\\linear_model\\logistic.py:433: FutureWarning: Default solver will be changed to 'lbfgs' in 0.22. Specify a solver to silence this warning.\n",
      "  FutureWarning)\n",
      "C:\\ProgramData\\Anaconda3\\lib\\site-packages\\sklearn\\linear_model\\logistic.py:433: FutureWarning: Default solver will be changed to 'lbfgs' in 0.22. Specify a solver to silence this warning.\n",
      "  FutureWarning)\n",
      "C:\\ProgramData\\Anaconda3\\lib\\site-packages\\sklearn\\linear_model\\logistic.py:433: FutureWarning: Default solver will be changed to 'lbfgs' in 0.22. Specify a solver to silence this warning.\n",
      "  FutureWarning)\n",
      "C:\\ProgramData\\Anaconda3\\lib\\site-packages\\sklearn\\linear_model\\logistic.py:433: FutureWarning: Default solver will be changed to 'lbfgs' in 0.22. Specify a solver to silence this warning.\n",
      "  FutureWarning)\n",
      "C:\\ProgramData\\Anaconda3\\lib\\site-packages\\sklearn\\linear_model\\logistic.py:433: FutureWarning: Default solver will be changed to 'lbfgs' in 0.22. Specify a solver to silence this warning.\n",
      "  FutureWarning)\n",
      "C:\\ProgramData\\Anaconda3\\lib\\site-packages\\sklearn\\linear_model\\logistic.py:433: FutureWarning: Default solver will be changed to 'lbfgs' in 0.22. Specify a solver to silence this warning.\n",
      "  FutureWarning)\n",
      "C:\\ProgramData\\Anaconda3\\lib\\site-packages\\sklearn\\svm\\base.py:196: FutureWarning: The default value of gamma will change from 'auto' to 'scale' in version 0.22 to account better for unscaled features. Set gamma explicitly to 'auto' or 'scale' to avoid this warning.\n",
      "  \"avoid this warning.\", FutureWarning)\n",
      "C:\\ProgramData\\Anaconda3\\lib\\site-packages\\sklearn\\svm\\base.py:196: FutureWarning: The default value of gamma will change from 'auto' to 'scale' in version 0.22 to account better for unscaled features. Set gamma explicitly to 'auto' or 'scale' to avoid this warning.\n",
      "  \"avoid this warning.\", FutureWarning)\n",
      "C:\\ProgramData\\Anaconda3\\lib\\site-packages\\sklearn\\svm\\base.py:196: FutureWarning: The default value of gamma will change from 'auto' to 'scale' in version 0.22 to account better for unscaled features. Set gamma explicitly to 'auto' or 'scale' to avoid this warning.\n",
      "  \"avoid this warning.\", FutureWarning)\n",
      "C:\\ProgramData\\Anaconda3\\lib\\site-packages\\sklearn\\svm\\base.py:196: FutureWarning: The default value of gamma will change from 'auto' to 'scale' in version 0.22 to account better for unscaled features. Set gamma explicitly to 'auto' or 'scale' to avoid this warning.\n",
      "  \"avoid this warning.\", FutureWarning)\n",
      "C:\\ProgramData\\Anaconda3\\lib\\site-packages\\sklearn\\svm\\base.py:196: FutureWarning: The default value of gamma will change from 'auto' to 'scale' in version 0.22 to account better for unscaled features. Set gamma explicitly to 'auto' or 'scale' to avoid this warning.\n",
      "  \"avoid this warning.\", FutureWarning)\n",
      "C:\\ProgramData\\Anaconda3\\lib\\site-packages\\sklearn\\svm\\base.py:196: FutureWarning: The default value of gamma will change from 'auto' to 'scale' in version 0.22 to account better for unscaled features. Set gamma explicitly to 'auto' or 'scale' to avoid this warning.\n",
      "  \"avoid this warning.\", FutureWarning)\n",
      "C:\\ProgramData\\Anaconda3\\lib\\site-packages\\sklearn\\svm\\base.py:196: FutureWarning: The default value of gamma will change from 'auto' to 'scale' in version 0.22 to account better for unscaled features. Set gamma explicitly to 'auto' or 'scale' to avoid this warning.\n",
      "  \"avoid this warning.\", FutureWarning)\n",
      "C:\\ProgramData\\Anaconda3\\lib\\site-packages\\sklearn\\svm\\base.py:196: FutureWarning: The default value of gamma will change from 'auto' to 'scale' in version 0.22 to account better for unscaled features. Set gamma explicitly to 'auto' or 'scale' to avoid this warning.\n",
      "  \"avoid this warning.\", FutureWarning)\n",
      "C:\\ProgramData\\Anaconda3\\lib\\site-packages\\sklearn\\svm\\base.py:196: FutureWarning: The default value of gamma will change from 'auto' to 'scale' in version 0.22 to account better for unscaled features. Set gamma explicitly to 'auto' or 'scale' to avoid this warning.\n",
      "  \"avoid this warning.\", FutureWarning)\n",
      "C:\\ProgramData\\Anaconda3\\lib\\site-packages\\sklearn\\svm\\base.py:196: FutureWarning: The default value of gamma will change from 'auto' to 'scale' in version 0.22 to account better for unscaled features. Set gamma explicitly to 'auto' or 'scale' to avoid this warning.\n",
      "  \"avoid this warning.\", FutureWarning)\n"
     ]
    },
    {
     "name": "stdout",
     "output_type": "stream",
     "text": [
      "81.59 81.93 81.82 81.26 78.44 83.05 83.16\n"
     ]
    }
   ],
   "source": [
    "# 모델 객체 생성\n",
    "model1 = LogisticRegression(C=1000.0, random_state=0)\n",
    "model2 = KNeighborsClassifier(n_neighbors=13)\n",
    "model3 = DecisionTreeClassifier()\n",
    "model4 = RandomForestClassifier(n_estimators=13)\n",
    "model5 = GaussianNB()\n",
    "model6 = SVC(C=1, kernel='rbf', coef0=1)\n",
    "model7 = XGBClassifier()\n",
    "\n",
    "# Fold 생성\n",
    "folds = KFold(n_splits=10, shuffle=True, random_state=0)\n",
    "\n",
    "# 교차 검증\n",
    "score1 = cross_val_score(model1, train, target, cv=folds, n_jobs=1, scoring='accuracy')\n",
    "score2 = cross_val_score(model2, train, target, cv=folds, n_jobs=1, scoring='accuracy')\n",
    "score3 = cross_val_score(model3, train, target, cv=folds, n_jobs=1, scoring='accuracy')\n",
    "score4 = cross_val_score(model4, train, target, cv=folds, n_jobs=1, scoring='accuracy')\n",
    "score5 = cross_val_score(model5, train, target, cv=folds, n_jobs=1, scoring='accuracy')\n",
    "score6 = cross_val_score(model6, train, target, cv=folds, n_jobs=1, scoring='accuracy')\n",
    "score7 = cross_val_score(model7, train, target, cv=folds, n_jobs=1, scoring='accuracy')\n",
    "\n",
    "# 각 모델병 정확도 평균\n",
    "avg1 = round(np.mean(score1)*100, 2)\n",
    "avg2 = round(np.mean(score2)*100, 2)\n",
    "avg3 = round(np.mean(score3)*100, 2)\n",
    "avg4 = round(np.mean(score4)*100, 2)\n",
    "avg5 = round(np.mean(score5)*100, 2)\n",
    "avg6 = round(np.mean(score6)*100, 2)\n",
    "avg7 = round(np.mean(score7)*100, 2)\n",
    "\n",
    "print(avg1, avg2, avg3, avg4, avg5, avg6, avg7)"
   ]
  },
  {
   "cell_type": "markdown",
   "metadata": {},
   "source": [
    "### 학습"
   ]
  },
  {
   "cell_type": "code",
   "execution_count": 140,
   "metadata": {},
   "outputs": [
    {
     "name": "stdout",
     "output_type": "stream",
     "text": [
      "학습완료\n"
     ]
    }
   ],
   "source": [
    "model7.fit(train, target)\n",
    "print('학습완료')"
   ]
  },
  {
   "cell_type": "markdown",
   "metadata": {},
   "source": [
    "### 사용"
   ]
  },
  {
   "cell_type": "code",
   "execution_count": 141,
   "metadata": {},
   "outputs": [
    {
     "name": "stdout",
     "output_type": "stream",
     "text": [
      "사망 : 260\n",
      "생존 : 158\n"
     ]
    }
   ],
   "source": [
    "ids = test['PassengerId']\n",
    "test = test.drop('PassengerId', axis=1)\n",
    "\n",
    "# 예측 결과를 계산\n",
    "y_pred = model7.predict(test)\n",
    "\n",
    "# 사망자 수와 생존자 수를 계산\n",
    "result = collections.Counter(y_pred)\n",
    "print(f'사망 : {result[0]}')\n",
    "print(f'생존 : {result[1]}')"
   ]
  },
  {
   "cell_type": "code",
   "execution_count": 142,
   "metadata": {},
   "outputs": [],
   "source": [
    "# 결과 저장\n",
    "submission = pd.DataFrame({\n",
    "    'PassengerId' : ids,\n",
    "    'Survived' : y_pred\n",
    "})\n",
    "submission.to_csv('submission.csv')"
   ]
  },
  {
   "cell_type": "code",
   "execution_count": null,
   "metadata": {},
   "outputs": [],
   "source": []
  }
 ],
 "metadata": {
  "kernelspec": {
   "display_name": "Python 3",
   "language": "python",
   "name": "python3"
  },
  "language_info": {
   "codemirror_mode": {
    "name": "ipython",
    "version": 3
   },
   "file_extension": ".py",
   "mimetype": "text/x-python",
   "name": "python",
   "nbconvert_exporter": "python",
   "pygments_lexer": "ipython3",
   "version": "3.7.1"
  }
 },
 "nbformat": 4,
 "nbformat_minor": 2
}
