{
 "cells": [
  {
   "cell_type": "markdown",
   "metadata": {},
   "source": [
    "# Scikit-learn\n",
    "\n",
    "머신러닝 알고리즘들을 미리 구현하여 배포하고 있고, 학습을 위해 데이터까지도 제공되는 파이썬용 라이브러리"
   ]
  },
  {
   "cell_type": "code",
   "execution_count": 6,
   "metadata": {},
   "outputs": [],
   "source": [
    "from sklearn.linear_model import Perceptron\n",
    "import pickle\n",
    "import pandas as pd"
   ]
  },
  {
   "cell_type": "code",
   "execution_count": 11,
   "metadata": {},
   "outputs": [],
   "source": [
    "# 데이터 준비\n",
    "def step1_get_data():\n",
    "    # 각 데이터는 대응 : [0,0] => 0, [0,1] => 0\n",
    "    data1 = [[0, 0], [0, 1], [1, 0], [1, 1]]\n",
    "    data2 = [0, 0, 0, 1]\n",
    "    \n",
    "    X = pd.DataFrame(data1) # 입력 데이터는 대문자\n",
    "    y = pd.DataFrame(data2) # 결과 데이터는 소문자\n",
    "    \n",
    "    return X, y"
   ]
  },
  {
   "cell_type": "code",
   "execution_count": 12,
   "metadata": {},
   "outputs": [],
   "source": [
    "# 데이터 전처리"
   ]
  },
  {
   "cell_type": "code",
   "execution_count": 15,
   "metadata": {},
   "outputs": [],
   "source": [
    "# 학습\n",
    "def step2_learning(X, y):\n",
    "    # 학습 모델 객체 생성\n",
    "    model = Perceptron(eta0 = 0.01, max_iter = 10)\n",
    "    model.fit(X, y)\n",
    "    \n",
    "    # 학습된 모델을 파일로 저장한다\n",
    "    with open('model.dat', 'wb') as fp:\n",
    "        pickle.dump(model, fp)\n",
    "    \n",
    "    print('학습 완료')"
   ]
  },
  {
   "cell_type": "code",
   "execution_count": 16,
   "metadata": {},
   "outputs": [
    {
     "name": "stdout",
     "output_type": "stream",
     "text": [
      "학습 완료\n"
     ]
    },
    {
     "name": "stderr",
     "output_type": "stream",
     "text": [
      "C:\\ProgramData\\Anaconda3\\lib\\site-packages\\sklearn\\linear_model\\stochastic_gradient.py:183: FutureWarning: max_iter and tol parameters have been added in Perceptron in 0.19. If max_iter is set but tol is left unset, the default value for tol in 0.19 and 0.20 will be None (which is equivalent to -infinity, so it has no effect) but will change in 0.21 to 1e-3. Specify tol to silence this warning.\n",
      "  FutureWarning)\n",
      "C:\\ProgramData\\Anaconda3\\lib\\site-packages\\sklearn\\utils\\validation.py:761: DataConversionWarning: A column-vector y was passed when a 1d array was expected. Please change the shape of y to (n_samples, ), for example using ravel().\n",
      "  y = column_or_1d(y, warn=True)\n"
     ]
    }
   ],
   "source": [
    "X, y = step1_get_data()\n",
    "\n",
    "# print(X)\n",
    "# print('---------')\n",
    "# print(y)\n",
    "\n",
    "step2_learning(X, y)"
   ]
  },
  {
   "cell_type": "code",
   "execution_count": 21,
   "metadata": {},
   "outputs": [
    {
     "name": "stdout",
     "output_type": "stream",
     "text": [
      "첫 번째 2진수 : 0\n",
      "두 번째 2진수 : 0\n",
      "결과 : 0\n"
     ]
    }
   ],
   "source": [
    "# 저장된 모델 객체 복원\n",
    "with open('model.dat', 'rb') as fp :\n",
    "    model2 = pickle.load(fp)\n",
    "    \n",
    "# 사용한다\n",
    "a1 = input('첫 번째 2진수 : ')\n",
    "a2 = input('두 번째 2진수 : ')\n",
    "X = pd.DataFrame([[int(a1), int(a2)]])\n",
    "\n",
    "# 예측 값을 가져온다\n",
    "result = model2.predict(X)\n",
    "print(f'결과 : {result[0]}')"
   ]
  },
  {
   "cell_type": "code",
   "execution_count": null,
   "metadata": {},
   "outputs": [],
   "source": []
  }
 ],
 "metadata": {
  "kernelspec": {
   "display_name": "Python 3",
   "language": "python",
   "name": "python3"
  },
  "language_info": {
   "codemirror_mode": {
    "name": "ipython",
    "version": 3
   },
   "file_extension": ".py",
   "mimetype": "text/x-python",
   "name": "python",
   "nbconvert_exporter": "python",
   "pygments_lexer": "ipython3",
   "version": "3.7.1"
  }
 },
 "nbformat": 4,
 "nbformat_minor": 2
}
