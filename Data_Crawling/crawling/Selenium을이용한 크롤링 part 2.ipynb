{
 "cells": [
  {
   "cell_type": "code",
   "execution_count": 1,
   "metadata": {},
   "outputs": [],
   "source": [
    "from selenium import webdriver as wd\n",
    "import urllib"
   ]
  },
  {
   "cell_type": "code",
   "execution_count": 2,
   "metadata": {},
   "outputs": [],
   "source": [
    "driver = wd.Chrome('../tool/chromedriver.exe')"
   ]
  },
  {
   "cell_type": "code",
   "execution_count": 3,
   "metadata": {},
   "outputs": [],
   "source": [
    "driver.get( 'http://www.opinet.co.kr/searRgSelect.do' )"
   ]
  },
  {
   "cell_type": "markdown",
   "metadata": {},
   "source": [
    "### 전국 싼 주유소 정보를 실시간으로 획득\n",
    "- 시/도 정보 획득\n",
    "- 파생되는 시/군/구\n",
    "- 추가로 읍/면/동 정보를 모두 획득하여\n",
    "- 조회 버튼 클릭\n",
    "- 엑셀로 다운 받기 => 전국 주유 정보를 모두 엑셀로 수집"
   ]
  },
  {
   "cell_type": "code",
   "execution_count": 17,
   "metadata": {},
   "outputs": [],
   "source": [
    "# 시/도 정보 목록을 모두 획득 : #SIDO_NM0\n",
    "sidos = driver.find_elements_by_css_selector('#SIDO_NM0>option')\n",
    "# sido_list = list()\n",
    "# for sido in sidos:\n",
    "#     if sido.get_attribute('value'):\n",
    "#         sido_list.append(sido.get_attribute('value'))\n",
    "        "
   ]
  },
  {
   "cell_type": "code",
   "execution_count": 16,
   "metadata": {
    "collapsed": true
   },
   "outputs": [
    {
     "data": {
      "text/plain": [
       "['서울특별시',\n",
       " '부산광역시',\n",
       " '대구광역시',\n",
       " '인천광역시',\n",
       " '광주광역시',\n",
       " '대전광역시',\n",
       " '울산광역시',\n",
       " '세종특별자치시',\n",
       " '경기도',\n",
       " '강원도',\n",
       " '충청북도',\n",
       " '충청남도',\n",
       " '전라북도',\n",
       " '전라남도',\n",
       " '경상북도',\n",
       " '경상남도',\n",
       " '제주특별자치도']"
      ]
     },
     "execution_count": 16,
     "metadata": {},
     "output_type": "execute_result"
    }
   ],
   "source": [
    "sido_list = [\n",
    "                sido.get_attribute('value') # 값\n",
    "                for sido in sidos # sido정의 (if문)\n",
    "                if sido.get_attribute('value') # 값이 되는 조건\n",
    "            ]\n",
    "sido_list"
   ]
  },
  {
   "cell_type": "code",
   "execution_count": 31,
   "metadata": {},
   "outputs": [],
   "source": [
    "# 시/도를 선택\n",
    "# 부산광역시 선택: sido_list[1]\n",
    "# send_keys()는 입력계열에 값을 설정하는 함수\n",
    "driver.find_element_by_id('SIDO_NM0').send_keys(sido_list[1])"
   ]
  },
  {
   "cell_type": "code",
   "execution_count": 39,
   "metadata": {
    "collapsed": true
   },
   "outputs": [
    {
     "name": "stdout",
     "output_type": "stream",
     "text": [
      "['서울특별시', '부산광역시', '대구광역시', '인천광역시', '광주광역시', '대전광역시', '울산광역시', '세종특별자치시', '경기도', '강원도', '충청북도', '충청남도', '전라북도', '전라남도', '경상북도', '경상남도', '제주특별자치도']\n",
      "['강서구', '금정구', '기장군', '남구', '동구', '동래구', '부산진구', '북구', '사상구', '사하구', '서구', '수영구', '연제구', '영도구', '중구', '해운대구']\n",
      "['개포동', '개포제1동', '개포제2동', '개포제3동', '개포제4동', '논현동', '논현제1동', '논현제2동', '대치동', '대치제1동', '대치제2동', '대치제3동', '대치제4동', '도곡동', '도곡제1동', '도곡제2동', '삼성동', '삼성제1동', '삼성제2동', '세곡동', '수서동', '신사동', '압구정동', '압구정제1동', '압구정제2동', '역삼동', '역삼제1동', '역삼제2동', '율현동', '일원동', '일원본동', '일원제1동', '일원제2동', '자곡동', '청담동', '청담제1동', '청담제2동', '포이동']\n"
     ]
    }
   ],
   "source": [
    "# 시/군/구, 읍면동 까지 세팅\n",
    "\n",
    "# 목록 획득 함수\n",
    "def getList( id ):\n",
    "    return [\n",
    "        sido.get_attribute('value')\n",
    "        for sido in driver.find_elements_by_css_selector('#%s>option'%id) \n",
    "        if sido.get_attribute('value')\n",
    "    ]\n",
    "print(getList('SIDO_NM0'))\n",
    "print(getList('SIGUNGU_NM0'))\n",
    "print(getList('DONG_NM'))"
   ]
  },
  {
   "cell_type": "code",
   "execution_count": 43,
   "metadata": {},
   "outputs": [],
   "source": [
    "# 값 세팅 함수\n",
    "def setValue(id, v):\n",
    "    driver.find_element_by_id( id ).send_keys( v )"
   ]
  },
  {
   "cell_type": "code",
   "execution_count": 53,
   "metadata": {},
   "outputs": [
    {
     "name": "stdout",
     "output_type": "stream",
     "text": [
      "None\n",
      "None\n",
      "None\n"
     ]
    }
   ],
   "source": [
    "import time\n",
    "\n",
    "ID    = 'SIDO_NM0'\n",
    "sidos = getList(ID) # 1. 시도 목록 획득\n",
    "setValue(ID, sidos[0]) # 2. 시도 값 세팅 (임의)\n",
    "time.sleep(3)\n",
    "\n",
    "ID       = 'SIGUNGU_NM0'\n",
    "sigungus = getList(ID) # 3. 시군구 목록 획득\n",
    "setValue(ID, sigungus[0]) # 4. 시군구 값 세팅(임의)\n",
    "time.sleep(3)\n",
    "\n",
    "ID = 'DONG_NM'\n",
    "dongs = getList(ID) # 5. 읍/면/동 목록 획득\n",
    "setValue(ID, dongs[5]) # 6. 읍/면/동 값 세팅(임의)\n",
    "time.sleep(3)"
   ]
  },
  {
   "cell_type": "code",
   "execution_count": 54,
   "metadata": {},
   "outputs": [],
   "source": [
    "# 조회\n",
    "driver.find_element_by_id('searRgSelect').click()\n"
   ]
  },
  {
   "cell_type": "code",
   "execution_count": null,
   "metadata": {},
   "outputs": [],
   "source": [
    "# 엑셀 다운\n",
    "driver.find_element_by_id('glopopd_excel').click()"
   ]
  },
  {
   "cell_type": "code",
   "execution_count": null,
   "metadata": {},
   "outputs": [],
   "source": [
    "# 동만 반복해서 전부 받아보기\n",
    "for dong in dongs:\n",
    "    setValue(ID, dong)\n",
    "    time.sleep(3)\n",
    "    driver.find_element_by_id('searRgSelect').click()\n",
    "    time.sleep(30)\n",
    "    driver.find_element_by_id('glopopd_excel').click()"
   ]
  }
 ],
 "metadata": {
  "kernelspec": {
   "display_name": "Python 3",
   "language": "python",
   "name": "python3"
  },
  "language_info": {
   "codemirror_mode": {
    "name": "ipython",
    "version": 3
   },
   "file_extension": ".py",
   "mimetype": "text/x-python",
   "name": "python",
   "nbconvert_exporter": "python",
   "pygments_lexer": "ipython3",
   "version": "3.7.1"
  }
 },
 "nbformat": 4,
 "nbformat_minor": 2
}
