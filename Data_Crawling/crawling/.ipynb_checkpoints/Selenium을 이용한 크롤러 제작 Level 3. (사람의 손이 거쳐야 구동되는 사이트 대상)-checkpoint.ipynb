{
 "cells": [
  {
   "cell_type": "markdown",
   "metadata": {},
   "source": [
    "### install\n",
    "- selenium을 지원하는 브라우저 드라이버 다운로드 및 위치\n",
    "> ../tool/chromedriver.exe\n",
    "- 모듈 설치\n",
    "> pip install selenium\n",
    "- 렌더링이 끝날 때 까지 기다리기\n",
    "> 암묵적 대기, 명시적 대기 등 방법이 존재"
   ]
  },
  {
   "cell_type": "code",
   "execution_count": 4,
   "metadata": {},
   "outputs": [],
   "source": [
    "from selenium import webdriver as wd\n",
    "import urllib"
   ]
  },
  {
   "cell_type": "code",
   "execution_count": 13,
   "metadata": {},
   "outputs": [],
   "source": [
    "# ChromeOptions 사용하는 경우, 프록시 서버 사용, user-agent 조작, 이미지로 제거, 윈도우 사이즈 조정 ... \n",
    "driver = wd.Chrome('../tool/chromedriver.exe')"
   ]
  },
  {
   "cell_type": "code",
   "execution_count": 14,
   "metadata": {},
   "outputs": [],
   "source": [
    "# 접속 주소 세팅\n",
    "url     = 'https://www.youtube.com/results'\n",
    "# 파라미터 : 업로드 날짜 기준 정렬, 검색어는 인코딩 처리\n",
    "params  = '?sp=CAI%253D&search_query={}'\n",
    "keyword = urllib.parse.quote('stephaniesoo')\n",
    "# 최종 url\n",
    "site_url = url + params.format(keyword)"
   ]
  },
  {
   "cell_type": "code",
   "execution_count": 15,
   "metadata": {},
   "outputs": [],
   "source": [
    "# 접속\n",
    "driver.get( site_url )"
   ]
  },
  {
   "cell_type": "code",
   "execution_count": 17,
   "metadata": {},
   "outputs": [
    {
     "ename": "KeyboardInterrupt",
     "evalue": "",
     "output_type": "error",
     "traceback": [
      "\u001b[1;31m---------------------------------------------------------------------------\u001b[0m",
      "\u001b[1;31mKeyboardInterrupt\u001b[0m                         Traceback (most recent call last)",
      "\u001b[1;32m<ipython-input-17-1bc5529c9ca3>\u001b[0m in \u001b[0;36m<module>\u001b[1;34m\u001b[0m\n\u001b[0;32m      7\u001b[0m     \u001b[0mdriver\u001b[0m\u001b[1;33m.\u001b[0m\u001b[0mexecute_script\u001b[0m\u001b[1;33m(\u001b[0m\u001b[1;34m'window.scrollBy(0,1000)'\u001b[0m\u001b[1;33m)\u001b[0m\u001b[1;33m\u001b[0m\u001b[1;33m\u001b[0m\u001b[0m\n\u001b[0;32m      8\u001b[0m     \u001b[1;31m# 기다린다 (화면이 동적으로 구성 완료 될 때 까지)\u001b[0m\u001b[1;33m\u001b[0m\u001b[1;33m\u001b[0m\u001b[1;33m\u001b[0m\u001b[0m\n\u001b[1;32m----> 9\u001b[1;33m     \u001b[0mtime\u001b[0m\u001b[1;33m.\u001b[0m\u001b[0msleep\u001b[0m\u001b[1;33m(\u001b[0m\u001b[1;36m1\u001b[0m\u001b[1;33m)\u001b[0m\u001b[1;33m\u001b[0m\u001b[1;33m\u001b[0m\u001b[0m\n\u001b[0m",
      "\u001b[1;31mKeyboardInterrupt\u001b[0m: "
     ]
    }
   ],
   "source": [
    "# 유튜브 특성상 원하는 데이터가 올라올 만큼 로드해줘야 한다\n",
    "# 자바스크립트를 가동시켜서 페이지 스크롤을 진행해 ajax를 자동 구동시킨다\n",
    "# or 근본적으로 유튜브의 js를 분석해서 임의 조작도 가능\n",
    "import time\n",
    "for n in range(100):\n",
    "    # 자바스크립트 구동을 시켜서 1000 이동\n",
    "    driver.execute_script('window.scrollBy(0,1000)')\n",
    "    # 기다린다 (화면이 동적으로 구성 완료 될 때 까지)\n",
    "    time.sleep(1)"
   ]
  },
  {
   "cell_type": "code",
   "execution_count": 18,
   "metadata": {},
   "outputs": [
    {
     "data": {
      "text/plain": [
       "494"
      ]
     },
     "execution_count": 18,
     "metadata": {},
     "output_type": "execute_result"
    }
   ],
   "source": [
    "# 영상 데이터 하나는 : ytd-video-renderer 태그에 속한다\n",
    "# 총 데이터 개수 : ytd-video-renderer의 총 개수\n",
    "videos = driver.find_elements_by_tag_name('ytd-video-renderer')\n",
    "len(videos)"
   ]
  },
  {
   "cell_type": "code",
   "execution_count": 29,
   "metadata": {
    "scrolled": true
   },
   "outputs": [
    {
     "name": "stdout",
     "output_type": "stream",
     "text": [
      "LOBSTER TAILS + STEAK + SHRIMP SCAMPI PASTA SIZZLER MUKBANG 먹방 | Eating Show\n",
      "https://www.youtube.com/watch?v=cAW2oWo44Jw\n",
      "https://i.ytimg.com/vi/cAW2oWo44Jw/hqdefault.jpg?sqp=-oaymwEZCPYBEIoBSFXyq4qpAwsIARUAAIhCGAFwAQ==&rs=AOn4CLBE3u9J9g3tPsqPZ7egYFOo85YRJw\n",
      "조회수 1.7만회\n",
      "2시간 전\n"
     ]
    }
   ],
   "source": [
    "# v : Webelement\n",
    "for v in videos:\n",
    "    # 영상의 제목을 출력 a tag 내부값 or title 속성 값\n",
    "    # v.find_element_by_id('video-title').text\n",
    "    print(v.find_element_by_id('video-title').get_attribute('title'))\n",
    "    print(v.find_element_by_id('thumbnail').get_attribute('href')) # 영상 주소\n",
    "    print(v.find_element_by_tag_name('img').get_attribute('src')) # 썸네일 실주소\n",
    "    for meta in v.find_elements_by_css_selector('#metadata-line>span'):\n",
    "        print(meta.text) # 조회수, 등록일\n",
    "    break"
   ]
  },
  {
   "cell_type": "code",
   "execution_count": null,
   "metadata": {},
   "outputs": [],
   "source": []
  }
 ],
 "metadata": {
  "kernelspec": {
   "display_name": "Python 3",
   "language": "python",
   "name": "python3"
  },
  "language_info": {
   "codemirror_mode": {
    "name": "ipython",
    "version": 3
   },
   "file_extension": ".py",
   "mimetype": "text/x-python",
   "name": "python",
   "nbconvert_exporter": "python",
   "pygments_lexer": "ipython3",
   "version": "3.7.1"
  }
 },
 "nbformat": 4,
 "nbformat_minor": 2
}
