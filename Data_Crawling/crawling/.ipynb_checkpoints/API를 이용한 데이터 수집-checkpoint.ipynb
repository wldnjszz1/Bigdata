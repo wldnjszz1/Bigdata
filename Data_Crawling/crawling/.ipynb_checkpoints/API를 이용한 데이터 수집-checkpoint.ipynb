{
 "cells": [
  {
   "cell_type": "markdown",
   "metadata": {},
   "source": [
    "## 데이터 수집 1레벨\n",
    "\n",
    "- API 공급자로부터 내가 원하는 데이터를 제공해주면\n",
    "- open API가 존재해 제공해 준다면\n",
    "- 꼭, open API가 아니더라도 자유롭게 사용할 수 있다면\n",
    "- 요청 -> 응답 -> json or xml -> 파싱\n",
    "- 원하는 데이터를 획득 -> 전처리 -> 적재"
   ]
  },
  {
   "cell_type": "code",
   "execution_count": null,
   "metadata": {},
   "outputs": [],
   "source": [
    "# 요청용\n",
    "from urllib.request import urlopen, Request"
   ]
  },
  {
   "cell_type": "code",
   "execution_count": null,
   "metadata": {},
   "outputs": [],
   "source": [
    "import urllib "
   ]
  },
  {
   "cell_type": "code",
   "execution_count": null,
   "metadata": {
    "scrolled": false
   },
   "outputs": [],
   "source": [
    "# REST API 키\n",
    "KAKAO_REST_API = '7ec3d18be2294817304daa13700df77f'\n",
    "URL_BASE = 'https://dapi.kakao.com/v2/search/web'\n",
    "# 검색어에 한글 or 공백이 존재하면 오류발생\n",
    "# url 인코딩 처리를 해서 %xxx 형식으로 처리돼야한다.\n",
    "keyword = urllib.parse.quote('아이즈원')\n",
    "keyword"
   ]
  },
  {
   "cell_type": "code",
   "execution_count": null,
   "metadata": {},
   "outputs": [],
   "source": [
    "data_list = []\n",
    "for n in range(50):\n",
    "    params = 'query={}&page={}&size=50&sort=recency'.format(keyword,n)"
   ]
  },
  {
   "cell_type": "code",
   "execution_count": null,
   "metadata": {},
   "outputs": [],
   "source": [
    "# 헤더 세팅\n",
    "HEADER_VALUE = 'KakaoAK '+ KAKAO_REST_API\n",
    "HEADER_VALUE"
   ]
  },
  {
   "cell_type": "code",
   "execution_count": null,
   "metadata": {},
   "outputs": [],
   "source": [
    "# GET 방식으로 구성\n",
    "url = '%s?%s' % (URL_BASE, params)\n",
    "url"
   ]
  },
  {
   "cell_type": "code",
   "execution_count": null,
   "metadata": {},
   "outputs": [],
   "source": [
    "# 요청을 만들어서 헤더를 설정\n",
    "req = Request( url )\n",
    "req.add_header('Authorization',HEADER_VALUE)"
   ]
  },
  {
   "cell_type": "code",
   "execution_count": null,
   "metadata": {},
   "outputs": [],
   "source": [
    "# 요청 후 응답\n",
    "response = urlopen(req)"
   ]
  },
  {
   "cell_type": "code",
   "execution_count": null,
   "metadata": {},
   "outputs": [],
   "source": [
    "if response.code == 200:\n",
    "    print('통신성공')\n",
    "    # json 파싱\n",
    "    import json\n",
    "    tmp = json.load( response )"
   ]
  },
  {
   "cell_type": "code",
   "execution_count": null,
   "metadata": {},
   "outputs": [],
   "source": [
    "# 데이터의 구조 확인이 끝나면\n",
    "# >tmp\n",
    "# >tmp['documents']\n",
    "#> len(tmp['documents']))\n",
    "# >type(tmp['documents'])\n",
    "# ...\n",
    "tmp['documents'][0]['title']"
   ]
  },
  {
   "cell_type": "code",
   "execution_count": null,
   "metadata": {
    "scrolled": true
   },
   "outputs": [],
   "source": [
    "for res in tmp['documents']:\n",
    "    # 일종의 데이터 정제작업\n",
    "    #pass\n",
    "    print(res['title'].replace('<b>','').replace('</b>',''))"
   ]
  },
  {
   "cell_type": "markdown",
   "metadata": {},
   "source": [
    "- 제목, 날짜, 컨텐츠 3개 수집\n",
    "- 디비에 어떻게 넣을 것인가? 결정이 안돼서 데이터를 모아두는데까지 \n",
    "- -> 1페이지 ~ 50 페이지까지 총 2500개 결과 \n",
    "- 리스트[ 딕셔너리 구조 ] 수집\n",
    " > [\n",
    "     {'title':'제목', 'datatime':시간, 'contents':'내용'},\n",
    "     {...}\n",
    " ]\n",
    "- 위의 구조로 총 2500개를 모아둔다"
   ]
  },
  {
   "cell_type": "code",
   "execution_count": null,
   "metadata": {},
   "outputs": [],
   "source": [
    "for res in tmp['documents']:\n",
    "    dic = {'title':'','datetime':'','contents':''}\n",
    "    dic['title'] = res['title'].replace('<b>','').replace('</b>','')\n",
    "    dic['datetime'] = res['datetime']\n",
    "    dic['contents']= res['contents'].replace('<b>','').replace('</b>','')\n",
    "    data_list.append(dic)\n",
    "print(data_list)"
   ]
  },
  {
   "cell_type": "code",
   "execution_count": 34,
   "metadata": {},
   "outputs": [],
   "source": [
    "from urllib.request import urlopen, Request\n",
    "import urllib \n",
    "KAKAO_REST_API = '7ec3d18be2294817304daa13700df77f'\n",
    "URL_BASE = 'https://dapi.kakao.com/v2/search/web'\n",
    "data_list = []\n",
    "keyword = urllib.parse.quote('아이즈원')\n",
    "for n in range(1,51):\n",
    "    params = 'query={}&page={}&size=50&sort=recency'.format(keyword,n)\n",
    "    url = '%s?%s' % (URL_BASE, params)\n",
    "    req = Request( url )\n",
    "    req.add_header('Authorization',HEADER_VALUE)\n",
    "    response = urlopen(req)\n",
    "    if response.code == 200:\n",
    "        tmp = json.load( response )\n",
    "        for res in tmp['documents']:\n",
    "            dic = {'title':'','datetime':'','contents':''}\n",
    "            dic['title'] = res['title'].replace('<b>','').replace('</b>','')\n",
    "            dic['datetime'] = res['datetime']\n",
    "            dic['contents']= res['contents'].replace('<b>','').replace('</b>','')\n",
    "            data_list.append(dic)\n",
    "    "
   ]
  },
  {
   "cell_type": "code",
   "execution_count": 19,
   "metadata": {},
   "outputs": [],
   "source": [
    "def makeParam( searchStr, page ):\n",
    "    keyword = urllib.parse.quote(searchStr)\n",
    "    params = 'query={}&page={}&size=50&sort=recency'.format(keyword,page)\n",
    "    return params"
   ]
  },
  {
   "cell_type": "code",
   "execution_count": 22,
   "metadata": {
    "scrolled": true
   },
   "outputs": [
    {
     "name": "stdout",
     "output_type": "stream",
     "text": [
      "https://dapi.kakao.com/v2/search/web?query=%EC%95%84%EC%9D%B4%EC%A6%88%EC%9B%90&page=1&size=50&sort=recency\n",
      "https://dapi.kakao.com/v2/search/web?query=%EC%95%84%EC%9D%B4%EC%A6%88%EC%9B%90&page=2&size=50&sort=recency\n"
     ]
    }
   ],
   "source": [
    "\n",
    "results = list()\n",
    "import json\n",
    "import time\n",
    "for page in range(1,3):\n",
    "    # 요청 URL 구성\n",
    "    params = makeParam('아이즈원', page)\n",
    "    url    = '%s?%s' % (URL_BASE, params)\n",
    "    print( url )\n",
    "    # 헤더 설정\n",
    "    req = Request( url )\n",
    "    req.add_header('Authorization',HEADER_VALUE)\n",
    "    # 요청\n",
    "    response = urlopen(req)\n",
    "    # 응답\n",
    "    if response.code == 200:\n",
    "        tmp = json.load( response )\n",
    "        # 데이터를 파싱해서 제목, 날짜, 컨텐츠를 작재\n",
    "        results.extend(tmp['documents']) # 검색 결과로 나온 데이터를 계속 적재시킨다(이어 붙인다)\n",
    "        time.sleep(1)"
   ]
  },
  {
   "cell_type": "code",
   "execution_count": 36,
   "metadata": {},
   "outputs": [],
   "source": [
    "# 검색어 강조 처리하는 <b> 태그 제거 함수\n",
    "def deleteBTag( str ):\n",
    "    return str.replace('<b>','').replace('</b>','')"
   ]
  },
  {
   "cell_type": "code",
   "execution_count": 38,
   "metadata": {},
   "outputs": [
    {
     "data": {
      "text/plain": [
       "[{'title': '아이즈원 프라이빗 메일.',\n",
       "  'datetime': '2019-02-10T00:00:00.000+09:00',\n",
       "  'contents': '아이즈원 프라이빗 메일 가입했더니, 이렇게 사진이랑 문자도 매일 보내주네요. 좋아요. 사쿠라 화이팅!'},\n",
       " {'title': '아이즈원',\n",
       "  'datetime': '2019-02-09T18:40:00.000+09:00',\n",
       "  'contents': ''}]"
      ]
     },
     "execution_count": 38,
     "metadata": {},
     "output_type": "execute_result"
    }
   ],
   "source": [
    "# 데이터 보정 처리: 'url' 을 제거하시오\n",
    "# del 딕셔너리['url']\n",
    "# map 함수 사용 가능\n",
    "for r in results:\n",
    "    # 원본 조작\n",
    "    r['title'] = deleteBTag(r['title'])\n",
    "    r['contents'] = deleteBTag(r['contents'])\n",
    "    # 해당 키가 존재하면 삭제하라\n",
    "    if 'url' in results:\n",
    "        del r['url']\n",
    "results[-2:]"
   ]
  },
  {
   "cell_type": "markdown",
   "metadata": {},
   "source": [
    "## 데이터 적재\n",
    "- 데이터(리스트 딕셔너리 구조)를 RDBMS의 특정 테이블에 삽입(insert)\n",
    "- 일반적인 방법으로 진행을 하면 insert 구문은 데이터 수 만큼 하거나, sql을 한번에 넣을 수 있게 짜야한다.\n",
    "- 이 방법은 속도가 느리고 번잡하다\n",
    "- 수집한 데이터 => DataFrame로 변환(Pandas의 자료구조)\n",
    "- numpy : ndarray => 배열\n",
    "- pandas: Series => 1차원 자료구조, DataFrame => 2차원 이상 자료구조\n",
    "- pandas의 함수를 이용해 DB에 데이터를 간단하게 적재할 수 있다"
   ]
  },
  {
   "cell_type": "markdown",
   "metadata": {},
   "source": [
    "### 필요한 모듈\n",
    "- mysql 계열 접근 처리\n",
    "- pip install pymysql\n",
    "- 상위 레벨의 디비 처리 (wrapping 으로 사용)\n",
    "- pip install sqlalchemy\n",
    "- 데이터 전송 처리\n",
    "- pip install pandas"
   ]
  },
  {
   "cell_type": "code",
   "execution_count": 41,
   "metadata": {},
   "outputs": [],
   "source": [
    "import pymysql \n",
    "from sqlalchemy import create_engine\n",
    "import pandas as pd\n",
    "import pandas.io.sql as pSql"
   ]
  },
  {
   "cell_type": "code",
   "execution_count": null,
   "metadata": {},
   "outputs": [],
   "source": [
    "# 파이프라인"
   ]
  }
 ],
 "metadata": {
  "kernelspec": {
   "display_name": "Python 3",
   "language": "python",
   "name": "python3"
  },
  "language_info": {
   "codemirror_mode": {
    "name": "ipython",
    "version": 3
   },
   "file_extension": ".py",
   "mimetype": "text/x-python",
   "name": "python",
   "nbconvert_exporter": "python",
   "pygments_lexer": "ipython3",
   "version": "3.7.1"
  }
 },
 "nbformat": 4,
 "nbformat_minor": 2
}
