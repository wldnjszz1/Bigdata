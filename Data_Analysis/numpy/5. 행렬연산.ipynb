{
 "cells": [
  {
   "cell_type": "code",
   "execution_count": 1,
   "metadata": {},
   "outputs": [],
   "source": [
    "import numpy as np"
   ]
  },
  {
   "cell_type": "code",
   "execution_count": 4,
   "metadata": {},
   "outputs": [
    {
     "name": "stdout",
     "output_type": "stream",
     "text": [
      "shape1 : [1 6 5 4 9 4 9 6 6]\n",
      "shape2 : [[1 6 5]\n",
      " [4 9 4]\n",
      " [9 6 6]]\n"
     ]
    }
   ],
   "source": [
    "# 행렬을 재구성하는 함수\n",
    "shape1 = np.random.randint(0, 10, 9)\n",
    "print(f'shape1 : {shape1}')\n",
    "\n",
    "shape2 = shape1.reshape(3, 3)\n",
    "print(f'shape2 : {shape2}')"
   ]
  },
  {
   "cell_type": "code",
   "execution_count": 11,
   "metadata": {},
   "outputs": [
    {
     "name": "stdout",
     "output_type": "stream",
     "text": [
      "list3 : [1, 2, 3, 4, 5, 6]\n",
      "shape3 : [5 7 9]\n",
      "shape4 : [3 3 3]\n",
      "shape5 : [ 4 10 18]\n",
      "shape6 : [4.  2.5 2. ]\n"
     ]
    }
   ],
   "source": [
    "# 연산\n",
    "list1 = [1, 2, 3]\n",
    "list2 = [4, 5, 6]\n",
    "list3 = list1 + list2\n",
    "print(f'list3 : {list3}')\n",
    "\n",
    "shape1 = np.array(list1)\n",
    "shape2 = np.array(list2)\n",
    "shape3 = shape1 + shape2\n",
    "print(f'shape3 : {shape3}')\n",
    "\n",
    "shape4 = shape2 - shape1\n",
    "shape5 = shape2 * shape1\n",
    "shape6 = shape2 / shape1\n",
    "print(f'shape4 : {shape4}')\n",
    "print(f'shape5 : {shape5}')\n",
    "print(f'shape6 : {shape6}')"
   ]
  },
  {
   "cell_type": "code",
   "execution_count": null,
   "metadata": {},
   "outputs": [],
   "source": []
  }
 ],
 "metadata": {
  "kernelspec": {
   "display_name": "Python 3",
   "language": "python",
   "name": "python3"
  },
  "language_info": {
   "codemirror_mode": {
    "name": "ipython",
    "version": 3
   },
   "file_extension": ".py",
   "mimetype": "text/x-python",
   "name": "python",
   "nbconvert_exporter": "python",
   "pygments_lexer": "ipython3",
   "version": "3.7.1"
  }
 },
 "nbformat": 4,
 "nbformat_minor": 2
}
