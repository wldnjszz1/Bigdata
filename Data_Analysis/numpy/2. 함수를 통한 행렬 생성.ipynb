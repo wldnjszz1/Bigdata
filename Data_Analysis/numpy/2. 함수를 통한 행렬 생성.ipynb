{
 "cells": [
  {
   "cell_type": "markdown",
   "metadata": {},
   "source": [
    "# 함수를 통한 행렬 생성"
   ]
  },
  {
   "cell_type": "code",
   "execution_count": 1,
   "metadata": {},
   "outputs": [],
   "source": [
    "import numpy as np"
   ]
  },
  {
   "cell_type": "code",
   "execution_count": 8,
   "metadata": {},
   "outputs": [
    {
     "name": "stdout",
     "output_type": "stream",
     "text": [
      "shape1 : [0. 0. 0.]\n",
      "shape2 : [0 0 0]\n",
      "shape3 : [[0. 0.]\n",
      " [0. 0.]\n",
      " [0. 0.]]\n",
      "shape4: [[[0. 0. 0. 0.]\n",
      "  [0. 0. 0. 0.]\n",
      "  [0. 0. 0. 0.]]\n",
      "\n",
      " [[0. 0. 0. 0.]\n",
      "  [0. 0. 0. 0.]\n",
      "  [0. 0. 0. 0.]]]\n"
     ]
    }
   ],
   "source": [
    "# 0으로 채워진 행렬을 만든다\n",
    "shape1 = np.zeros(3)\n",
    "print(f'shape1 : {shape1}')\n",
    "\n",
    "shape2 = np.zeros(3, dtype=int)\n",
    "print(f'shape2 : {shape2}')\n",
    "\n",
    "# (행의 개수, 열의 개수)\n",
    "shape3 = np.zeros((3,2))\n",
    "print(f'shape3 : {shape3}')\n",
    "\n",
    "# (면의 개수, 행의 개수, 열의 개수)\n",
    "shape4 = np.zeros((2,3,4))\n",
    "print(f'shape4: {shape4}')"
   ]
  },
  {
   "cell_type": "code",
   "execution_count": 11,
   "metadata": {},
   "outputs": [
    {
     "name": "stdout",
     "output_type": "stream",
     "text": [
      "shape1 : [1. 1. 1.]\n",
      "shape2 : [1 1 1]\n",
      "shape3 : [[1. 1.]\n",
      " [1. 1.]\n",
      " [1. 1.]]\n",
      "shape4 : [[[1. 1. 1. 1.]\n",
      "  [1. 1. 1. 1.]\n",
      "  [1. 1. 1. 1.]]\n",
      "\n",
      " [[1. 1. 1. 1.]\n",
      "  [1. 1. 1. 1.]\n",
      "  [1. 1. 1. 1.]]]\n"
     ]
    }
   ],
   "source": [
    "# 1로 채워진 행렬\n",
    "shape1 = np.ones(3)\n",
    "print(f'shape1 : {shape1}')\n",
    "\n",
    "shape2 = np.ones(3, dtype=int)\n",
    "print(f'shape2 : {shape2}')\n",
    "\n",
    "shape3 = np.ones((3,2))\n",
    "print(f'shape3 : {shape3}')\n",
    "\n",
    "shape4 = np.ones((2,3,4))\n",
    "print(f'shape4 : {shape4}')"
   ]
  },
  {
   "cell_type": "code",
   "execution_count": 13,
   "metadata": {},
   "outputs": [
    {
     "name": "stdout",
     "output_type": "stream",
     "text": [
      "shape1 : [7 7 7]\n",
      "shape2 : [[7 7]\n",
      " [7 7]\n",
      " [7 7]]\n",
      "shape3 : [[[7 7 7 7]\n",
      "  [7 7 7 7]\n",
      "  [7 7 7 7]]\n",
      "\n",
      " [[7 7 7 7]\n",
      "  [7 7 7 7]\n",
      "  [7 7 7 7]]]\n"
     ]
    }
   ],
   "source": [
    "# 지정된 숫자로 채워진 행렬 생성\n",
    "# (행렬정보, 채울 숫자)\n",
    "shape1 = np.full(3,7)\n",
    "print(f'shape1 : {shape1}')\n",
    "\n",
    "shape2 = np.full((3, 2), 7)\n",
    "print(f'shape2 : {shape2}')\n",
    "\n",
    "shape3 = np.full((2, 3, 4), 7)\n",
    "print(f'shape3 : {shape3}')"
   ]
  },
  {
   "cell_type": "code",
   "execution_count": 14,
   "metadata": {},
   "outputs": [
    {
     "name": "stdout",
     "output_type": "stream",
     "text": [
      "shape1 : [[1. 0. 0. 0. 0.]\n",
      " [0. 1. 0. 0. 0.]\n",
      " [0. 0. 1. 0. 0.]\n",
      " [0. 0. 0. 1. 0.]\n",
      " [0. 0. 0. 0. 1.]]\n"
     ]
    }
   ],
   "source": [
    "# NxN의 단위 행렬 생성\n",
    "shape1 = np.eye(5)\n",
    "print(f'shape1 : {shape1}')"
   ]
  },
  {
   "cell_type": "code",
   "execution_count": 15,
   "metadata": {},
   "outputs": [
    {
     "name": "stdout",
     "output_type": "stream",
     "text": [
      "shape1 : [7.74860419e-304 7.74860419e-304 7.74860419e-304]\n",
      "shape2 : [[1. 1. 1.]\n",
      " [1. 1. 1.]]\n",
      "shape3 : [[[1. 1. 1. 1.]\n",
      "  [1. 1. 1. 1.]\n",
      "  [1. 1. 1. 1.]]\n",
      "\n",
      " [[1. 1. 1. 1.]\n",
      "  [1. 1. 1. 1.]\n",
      "  [1. 1. 1. 1.]]]\n"
     ]
    }
   ],
   "source": [
    "# empty 함수 : 지정된 정보를 토대로 행렬을 만든다\n",
    "# 값을 세팅하지 않기 때문에 행렬 생성 자체는 속도가 매우 빠르지만 값이 결정되어 있지 않기 때문에 쓰레기 값이 들어있다\n",
    "# 반드시 값을 먼저 세팅해주고 사용해야 한다\n",
    "shape1 = np.empty(3)\n",
    "shape2 = np.empty((2, 3))\n",
    "shape3 = np.empty((2, 3, 4))\n",
    "print(f'shape1 : {shape1}')\n",
    "print(f'shape2 : {shape2}')\n",
    "print(f'shape3 : {shape3}')"
   ]
  },
  {
   "cell_type": "code",
   "execution_count": 19,
   "metadata": {},
   "outputs": [
    {
     "name": "stdout",
     "output_type": "stream",
     "text": [
      "shape1 : [[1 2 3]\n",
      " [4 5 6]]\n",
      "shape2 : [[0 0 0]\n",
      " [0 0 0]]\n",
      "shape3 : [[1 1 1]\n",
      " [1 1 1]]\n",
      "shape4 : [[7 7 7]\n",
      " [7 7 7]]\n",
      "shape5 : [[1 2 3]\n",
      " [4 5 6]]\n"
     ]
    }
   ],
   "source": [
    "# like 계열\n",
    "# 지정된 리스트와 동일한 형태의 행렬을 만든다\n",
    "# zeros_like\n",
    "# ones_like\n",
    "# full_like\n",
    "# empty_like\n",
    "\n",
    "list1 = [[1, 2, 3], [4, 5, 6]]\n",
    "\n",
    "shape1 = np.array(list1)\n",
    "shape2 = np.zeros_like(list1)\n",
    "shape3 = np.ones_like(list1)\n",
    "shape4 = np.full_like(list1,7)\n",
    "shape5 = np.empty_like(list1)\n",
    "\n",
    "print(f'shape1 : {shape1}')\n",
    "print(f'shape2 : {shape2}')\n",
    "print(f'shape3 : {shape3}')\n",
    "print(f'shape4 : {shape4}')\n",
    "print(f'shape5 : {shape5}')"
   ]
  },
  {
   "cell_type": "code",
   "execution_count": null,
   "metadata": {},
   "outputs": [],
   "source": []
  }
 ],
 "metadata": {
  "kernelspec": {
   "display_name": "Python 3",
   "language": "python",
   "name": "python3"
  },
  "language_info": {
   "codemirror_mode": {
    "name": "ipython",
    "version": 3
   },
   "file_extension": ".py",
   "mimetype": "text/x-python",
   "name": "python",
   "nbconvert_exporter": "python",
   "pygments_lexer": "ipython3",
   "version": "3.7.2"
  }
 },
 "nbformat": 4,
 "nbformat_minor": 2
}
