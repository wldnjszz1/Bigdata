{
 "cells": [
  {
   "cell_type": "markdown",
   "metadata": {},
   "source": [
    "# Numpy 개요\n",
    "\n",
    "Numpy는 과학 연산을 위한 라이브러리 중 하나\n",
    "\n",
    "Numpy는 고성능 다차원 배열(행렬)과 이런 배열을 처리하는 다양한 함수를 제공한다\n",
    "\n"
   ]
  },
  {
   "cell_type": "markdown",
   "metadata": {},
   "source": [
    "### 1. import "
   ]
  },
  {
   "cell_type": "code",
   "execution_count": 1,
   "metadata": {},
   "outputs": [],
   "source": [
    "import numpy as np"
   ]
  },
  {
   "cell_type": "markdown",
   "metadata": {},
   "source": [
    "### 2. 행렬 생성"
   ]
  },
  {
   "cell_type": "markdown",
   "metadata": {},
   "source": [
    "#### 2-1. 파이선 리스트로 NumPy 행렬 생성"
   ]
  },
  {
   "cell_type": "code",
   "execution_count": 3,
   "metadata": {},
   "outputs": [
    {
     "name": "stdout",
     "output_type": "stream",
     "text": [
      "list1 type : <class 'list'>\n",
      "list1 : [1, 2, 3]\n",
      "shape1 type: <class 'numpy.ndarray'>\n",
      "shape1 : [1 2 3]\n"
     ]
    }
   ],
   "source": [
    "# 리스트 생성\n",
    "list1 = [1, 2, 3]\n",
    "print(f'list1 type : {type(list1)}')\n",
    "print(f'list1 : {list1}')\n",
    "\n",
    "shape1 = np.array(list1)\n",
    "print(f'shape1 type: {type(shape1)}')\n",
    "print(f'shape1 : {shape1}')"
   ]
  },
  {
   "cell_type": "code",
   "execution_count": 5,
   "metadata": {},
   "outputs": [
    {
     "name": "stdout",
     "output_type": "stream",
     "text": [
      "list1[0] : 1\n",
      "list1[1] : 2\n",
      "shape1[0] : 1\n",
      "shape1[1] : 2\n"
     ]
    }
   ],
   "source": [
    "print(f'list1[0] : {list1[0]}')\n",
    "print(f'list1[1] : {list1[1]}')\n",
    "\n",
    "print(f'shape1[0] : {shape1[0]}')\n",
    "print(f'shape1[1] : {shape1[1]}')"
   ]
  },
  {
   "cell_type": "code",
   "execution_count": 7,
   "metadata": {},
   "outputs": [
    {
     "name": "stdout",
     "output_type": "stream",
     "text": [
      "list2 : [[3, 0, 3, 0, 8, 1, 5], [1, 2, 3, 4, 5, 6, 7]]\n",
      "shape2 : [[3 0 3 0 8 1 5]\n",
      " [1 2 3 4 5 6 7]]\n"
     ]
    }
   ],
   "source": [
    "list2 = [\n",
    "    [3, 0, 3, 0, 8, 1, 5],\n",
    "    [1, 2, 3, 4, 5, 6, 7]\n",
    "]\n",
    "print(f'list2 : {list2}')\n",
    "\n",
    "shape2 = np.array(list2)\n",
    "print(f'shape2 : {shape2}')"
   ]
  },
  {
   "cell_type": "code",
   "execution_count": 10,
   "metadata": {},
   "outputs": [
    {
     "name": "stdout",
     "output_type": "stream",
     "text": [
      "list2[0][2] : 3\n",
      "list3[1][3] : 4\n",
      "shape2[0][2] : 3\n",
      "shape2[1][3] : 4\n",
      "shape2[0,2] : 3\n",
      "shape2[1,3] : 4\n"
     ]
    }
   ],
   "source": [
    "print(f'list2[0][2] : {list2[0][2]}')\n",
    "print(f'list3[1][3] : {list2[1][3]}')\n",
    "\n",
    "print(f'shape2[0][2] : {shape2[0][2]}')\n",
    "print(f'shape2[1][3] : {shape2[1][3]}')\n",
    "\n",
    "print(f'shape2[0,2] : {shape2[0,2]}')\n",
    "print(f'shape2[1,3] : {shape2[1,3]}')"
   ]
  },
  {
   "cell_type": "code",
   "execution_count": 11,
   "metadata": {},
   "outputs": [
    {
     "name": "stdout",
     "output_type": "stream",
     "text": [
      "list3 : [[[1, 2], [3, 4]], [[5, 6], [7, 8]]]\n",
      "shape3 : [[[1 2]\n",
      "  [3 4]]\n",
      "\n",
      " [[5 6]\n",
      "  [7 8]]]\n"
     ]
    }
   ],
   "source": [
    "list3 = [[[1,2], [3,4]], [[5,6], [7,8]]]\n",
    "print(f'list3 : {list3}')\n",
    "\n",
    "shape3 = np.array(list3)\n",
    "print(f'shape3 : {shape3}')"
   ]
  },
  {
   "cell_type": "code",
   "execution_count": 13,
   "metadata": {},
   "outputs": [
    {
     "name": "stdout",
     "output_type": "stream",
     "text": [
      "list3[0][0][0] : 1\n",
      "list3[1][1][1] : 8\n",
      "shape3[0, 0, 0] : 1\n",
      "shape3[1, 1, 1] : 8\n"
     ]
    }
   ],
   "source": [
    "print(f'list3[0][0][0] : {list3[0][0][0]}')\n",
    "print(f'list3[1][1][1] : {list3[1][1][1]}')\n",
    "\n",
    "print(f'shape3[0, 0, 0] : {shape3[0, 0, 0]}')\n",
    "print(f'shape3[1, 1, 1] : {shape3[1, 1, 1]}')"
   ]
  },
  {
   "cell_type": "markdown",
   "metadata": {},
   "source": [
    "#### 2-2. 타입을 변환하면서 행렬 생성하기"
   ]
  },
  {
   "cell_type": "code",
   "execution_count": 14,
   "metadata": {},
   "outputs": [
    {
     "name": "stdout",
     "output_type": "stream",
     "text": [
      "shape1 : [1. 2. 3.]\n"
     ]
    }
   ],
   "source": [
    "# 정수 => 실수\n",
    "list1 = [1, 2, 3]\n",
    "shape1 = np.array(list1, dtype=float)\n",
    "print(f'shape1 : {shape1}')"
   ]
  },
  {
   "cell_type": "code",
   "execution_count": 15,
   "metadata": {},
   "outputs": [
    {
     "name": "stdout",
     "output_type": "stream",
     "text": [
      "shape2 : [1 2 3]\n"
     ]
    }
   ],
   "source": [
    "# 실수 => 정수\n",
    "list2 = [1.2, 2.2, 3.3]\n",
    "shape2 = np.array(list2, dtype=int)\n",
    "print(f'shape2 : {shape2}')"
   ]
  },
  {
   "cell_type": "code",
   "execution_count": 16,
   "metadata": {},
   "outputs": [
    {
     "name": "stdout",
     "output_type": "stream",
     "text": [
      "shape3 : ['10' '20' '30']\n",
      "shape4 : ['1.1' '2.2' '3.3']\n",
      "shape5 : [10 20 30]\n",
      "shape6 : [1.1 2.2 3.3]\n"
     ]
    }
   ],
   "source": [
    "# 문자열 =>  숫자\n",
    "list3 = ['10', '20', '30']\n",
    "list4 = ['1.1', '2.2', '3.3']\n",
    "\n",
    "shape3 = np.array(list3)\n",
    "shape4 = np.array(list4)\n",
    "print(f'shape3 : {shape3}')\n",
    "print(f'shape4 : {shape4}')\n",
    "\n",
    "shape5 = np.array(list3, dtype=int)\n",
    "shape6 = np.array(list4, dtype=float)\n",
    "print(f'shape5 : {shape5}')\n",
    "print(f'shape6 : {shape6}')"
   ]
  },
  {
   "cell_type": "code",
   "execution_count": null,
   "metadata": {},
   "outputs": [],
   "source": [
    "S"
   ]
  }
 ],
 "metadata": {
  "kernelspec": {
   "display_name": "Python 3",
   "language": "python",
   "name": "python3"
  },
  "language_info": {
   "codemirror_mode": {
    "name": "ipython",
    "version": 3
   },
   "file_extension": ".py",
   "mimetype": "text/x-python",
   "name": "python",
   "nbconvert_exporter": "python",
   "pygments_lexer": "ipython3",
   "version": "3.7.1"
  }
 },
 "nbformat": 4,
 "nbformat_minor": 2
}
